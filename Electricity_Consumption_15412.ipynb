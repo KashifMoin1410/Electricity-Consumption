{
 "cells": [
  {
   "cell_type": "code",
   "execution_count": 1,
   "id": "b6d2b9cd",
   "metadata": {
    "colab": {
     "base_uri": "https://localhost:8080/",
     "height": 374
    },
    "id": "b6d2b9cd",
    "outputId": "7ba6a018-3dbd-48e6-c6b3-fa3ea2d70a44"
   },
   "outputs": [],
   "source": [
    "import pandas as pd\n",
    "import numpy as np\n",
    "import warnings\n",
    "import math\n",
    "warnings.filterwarnings(\"ignore\")\n",
    "from datetime import datetime\n",
    "import seaborn as sns\n",
    "import matplotlib.pyplot as plt\n",
    "import xgboost as xgb\n",
    "from tabulate import tabulate\n",
    "from sklearn.model_selection import KFold\n",
    "from sklearn.metrics import r2_score\n",
    "from sklearn.metrics import mean_squared_error\n",
    "from sklearn.model_selection import train_test_split\n",
    "from sklearn.linear_model import LinearRegression\n",
    "from sklearn.tree import DecisionTreeRegressor\n",
    "from fast_ml.utilities import display_all\n",
    "from fast_ml.feature_selection import get_constant_features\n",
    "from sklearn.ensemble import RandomForestRegressor\n",
    "from sklearn.model_selection import RandomizedSearchCV\n",
    "import time"
   ]
  },
  {
   "cell_type": "markdown",
   "id": "bfd22577",
   "metadata": {
    "id": "bfd22577"
   },
   "source": [
    "## Store the Dataset into the Dataframe"
   ]
  },
  {
   "cell_type": "code",
   "execution_count": 2,
   "id": "f2b5dd76",
   "metadata": {
    "id": "f2b5dd76"
   },
   "outputs": [],
   "source": [
    "df = pd.read_csv(\"electric_consumption.csv\")"
   ]
  },
  {
   "cell_type": "markdown",
   "id": "a2ee4cd2",
   "metadata": {
    "id": "a2ee4cd2"
   },
   "source": [
    "## Information"
   ]
  },
  {
   "cell_type": "code",
   "execution_count": 3,
   "id": "1b021c91",
   "metadata": {
    "colab": {
     "base_uri": "https://localhost:8080/"
    },
    "id": "1b021c91",
    "outputId": "d850631d-b4f8-4553-a80b-71126a5be120"
   },
   "outputs": [
    {
     "data": {
      "text/plain": [
       "(228166, 8)"
      ]
     },
     "execution_count": 3,
     "metadata": {},
     "output_type": "execute_result"
    }
   ],
   "source": [
    "df.shape"
   ]
  },
  {
   "cell_type": "code",
   "execution_count": 4,
   "id": "5f0521ea",
   "metadata": {
    "colab": {
     "base_uri": "https://localhost:8080/"
    },
    "id": "5f0521ea",
    "outputId": "ea89022f-212b-4362-9ef5-f583b1374006"
   },
   "outputs": [
    {
     "name": "stdout",
     "output_type": "stream",
     "text": [
      "<class 'pandas.core.frame.DataFrame'>\n",
      "RangeIndex: 228166 entries, 0 to 228165\n",
      "Data columns (total 8 columns):\n",
      " #   Column                 Non-Null Count   Dtype  \n",
      "---  ------                 --------------   -----  \n",
      " 0   dt                     228166 non-null  object \n",
      " 1   Global_active_power    224434 non-null  float64\n",
      " 2   Global_reactive_power  224434 non-null  float64\n",
      " 3   Voltage                224434 non-null  float64\n",
      " 4   Global_intensity       224434 non-null  float64\n",
      " 5   Sub_metering_1         224434 non-null  float64\n",
      " 6   Sub_metering_2         224433 non-null  float64\n",
      " 7   Sub_metering_3         224433 non-null  float64\n",
      "dtypes: float64(7), object(1)\n",
      "memory usage: 13.9+ MB\n"
     ]
    }
   ],
   "source": [
    "df.info()"
   ]
  },
  {
   "cell_type": "code",
   "execution_count": 5,
   "id": "c3ec388d",
   "metadata": {
    "colab": {
     "base_uri": "https://localhost:8080/",
     "height": 364
    },
    "id": "c3ec388d",
    "outputId": "70b1fc41-a962-4668-9672-6a467bfdb700"
   },
   "outputs": [
    {
     "data": {
      "text/html": [
       "<div>\n",
       "<style scoped>\n",
       "    .dataframe tbody tr th:only-of-type {\n",
       "        vertical-align: middle;\n",
       "    }\n",
       "\n",
       "    .dataframe tbody tr th {\n",
       "        vertical-align: top;\n",
       "    }\n",
       "\n",
       "    .dataframe thead th {\n",
       "        text-align: right;\n",
       "    }\n",
       "</style>\n",
       "<table border=\"1\" class=\"dataframe\">\n",
       "  <thead>\n",
       "    <tr style=\"text-align: right;\">\n",
       "      <th></th>\n",
       "      <th>Global_active_power</th>\n",
       "      <th>Global_reactive_power</th>\n",
       "      <th>Voltage</th>\n",
       "      <th>Global_intensity</th>\n",
       "      <th>Sub_metering_1</th>\n",
       "      <th>Sub_metering_2</th>\n",
       "      <th>Sub_metering_3</th>\n",
       "    </tr>\n",
       "  </thead>\n",
       "  <tbody>\n",
       "    <tr>\n",
       "      <th>count</th>\n",
       "      <td>224434.000000</td>\n",
       "      <td>224434.000000</td>\n",
       "      <td>224434.000000</td>\n",
       "      <td>224434.000000</td>\n",
       "      <td>224434.000000</td>\n",
       "      <td>224433.000000</td>\n",
       "      <td>224433.000000</td>\n",
       "    </tr>\n",
       "    <tr>\n",
       "      <th>mean</th>\n",
       "      <td>1.308882</td>\n",
       "      <td>0.120900</td>\n",
       "      <td>239.702544</td>\n",
       "      <td>5.563506</td>\n",
       "      <td>1.276848</td>\n",
       "      <td>1.720692</td>\n",
       "      <td>6.311389</td>\n",
       "    </tr>\n",
       "    <tr>\n",
       "      <th>std</th>\n",
       "      <td>1.254631</td>\n",
       "      <td>0.111276</td>\n",
       "      <td>3.658699</td>\n",
       "      <td>5.298813</td>\n",
       "      <td>6.565552</td>\n",
       "      <td>6.929757</td>\n",
       "      <td>8.361744</td>\n",
       "    </tr>\n",
       "    <tr>\n",
       "      <th>min</th>\n",
       "      <td>0.104000</td>\n",
       "      <td>0.000000</td>\n",
       "      <td>223.490000</td>\n",
       "      <td>0.400000</td>\n",
       "      <td>0.000000</td>\n",
       "      <td>0.000000</td>\n",
       "      <td>0.000000</td>\n",
       "    </tr>\n",
       "    <tr>\n",
       "      <th>25%</th>\n",
       "      <td>0.312000</td>\n",
       "      <td>0.000000</td>\n",
       "      <td>237.150000</td>\n",
       "      <td>1.400000</td>\n",
       "      <td>0.000000</td>\n",
       "      <td>0.000000</td>\n",
       "      <td>0.000000</td>\n",
       "    </tr>\n",
       "    <tr>\n",
       "      <th>50%</th>\n",
       "      <td>0.924000</td>\n",
       "      <td>0.104000</td>\n",
       "      <td>240.020000</td>\n",
       "      <td>4.000000</td>\n",
       "      <td>0.000000</td>\n",
       "      <td>0.000000</td>\n",
       "      <td>0.000000</td>\n",
       "    </tr>\n",
       "    <tr>\n",
       "      <th>75%</th>\n",
       "      <td>1.880000</td>\n",
       "      <td>0.188000</td>\n",
       "      <td>242.320000</td>\n",
       "      <td>8.000000</td>\n",
       "      <td>0.000000</td>\n",
       "      <td>1.000000</td>\n",
       "      <td>17.000000</td>\n",
       "    </tr>\n",
       "    <tr>\n",
       "      <th>max</th>\n",
       "      <td>10.670000</td>\n",
       "      <td>0.988000</td>\n",
       "      <td>251.700000</td>\n",
       "      <td>46.400000</td>\n",
       "      <td>77.000000</td>\n",
       "      <td>78.000000</td>\n",
       "      <td>20.000000</td>\n",
       "    </tr>\n",
       "  </tbody>\n",
       "</table>\n",
       "</div>"
      ],
      "text/plain": [
       "       Global_active_power  Global_reactive_power        Voltage  \\\n",
       "count        224434.000000          224434.000000  224434.000000   \n",
       "mean              1.308882               0.120900     239.702544   \n",
       "std               1.254631               0.111276       3.658699   \n",
       "min               0.104000               0.000000     223.490000   \n",
       "25%               0.312000               0.000000     237.150000   \n",
       "50%               0.924000               0.104000     240.020000   \n",
       "75%               1.880000               0.188000     242.320000   \n",
       "max              10.670000               0.988000     251.700000   \n",
       "\n",
       "       Global_intensity  Sub_metering_1  Sub_metering_2  Sub_metering_3  \n",
       "count     224434.000000   224434.000000   224433.000000   224433.000000  \n",
       "mean           5.563506        1.276848        1.720692        6.311389  \n",
       "std            5.298813        6.565552        6.929757        8.361744  \n",
       "min            0.400000        0.000000        0.000000        0.000000  \n",
       "25%            1.400000        0.000000        0.000000        0.000000  \n",
       "50%            4.000000        0.000000        0.000000        0.000000  \n",
       "75%            8.000000        0.000000        1.000000       17.000000  \n",
       "max           46.400000       77.000000       78.000000       20.000000  "
      ]
     },
     "execution_count": 5,
     "metadata": {},
     "output_type": "execute_result"
    }
   ],
   "source": [
    "df.describe()"
   ]
  },
  {
   "cell_type": "markdown",
   "id": "0f86abad",
   "metadata": {
    "id": "0f86abad"
   },
   "source": [
    "## Data Preprocessing"
   ]
  },
  {
   "cell_type": "code",
   "execution_count": 6,
   "id": "495e5c1f",
   "metadata": {
    "colab": {
     "base_uri": "https://localhost:8080/",
     "height": 444
    },
    "id": "495e5c1f",
    "outputId": "d520b196-4719-418e-e7ab-e1f44fb20e42"
   },
   "outputs": [
    {
     "data": {
      "text/html": [
       "<div>\n",
       "<style scoped>\n",
       "    .dataframe tbody tr th:only-of-type {\n",
       "        vertical-align: middle;\n",
       "    }\n",
       "\n",
       "    .dataframe tbody tr th {\n",
       "        vertical-align: top;\n",
       "    }\n",
       "\n",
       "    .dataframe thead th {\n",
       "        text-align: right;\n",
       "    }\n",
       "</style>\n",
       "<table border=\"1\" class=\"dataframe\">\n",
       "  <thead>\n",
       "    <tr style=\"text-align: right;\">\n",
       "      <th></th>\n",
       "      <th>dt</th>\n",
       "      <th>Global_active_power</th>\n",
       "      <th>Global_reactive_power</th>\n",
       "      <th>Voltage</th>\n",
       "      <th>Global_intensity</th>\n",
       "      <th>Sub_metering_1</th>\n",
       "      <th>Sub_metering_2</th>\n",
       "      <th>Sub_metering_3</th>\n",
       "    </tr>\n",
       "  </thead>\n",
       "  <tbody>\n",
       "    <tr>\n",
       "      <th>0</th>\n",
       "      <td>2006-12-16 17:24:00</td>\n",
       "      <td>4.216</td>\n",
       "      <td>0.418</td>\n",
       "      <td>234.84</td>\n",
       "      <td>18.4</td>\n",
       "      <td>0.0</td>\n",
       "      <td>1.0</td>\n",
       "      <td>17.0</td>\n",
       "    </tr>\n",
       "    <tr>\n",
       "      <th>1</th>\n",
       "      <td>2006-12-16 17:25:00</td>\n",
       "      <td>5.360</td>\n",
       "      <td>0.436</td>\n",
       "      <td>233.63</td>\n",
       "      <td>23.0</td>\n",
       "      <td>0.0</td>\n",
       "      <td>1.0</td>\n",
       "      <td>16.0</td>\n",
       "    </tr>\n",
       "    <tr>\n",
       "      <th>2</th>\n",
       "      <td>2006-12-16 17:26:00</td>\n",
       "      <td>5.374</td>\n",
       "      <td>0.498</td>\n",
       "      <td>233.29</td>\n",
       "      <td>23.0</td>\n",
       "      <td>0.0</td>\n",
       "      <td>2.0</td>\n",
       "      <td>17.0</td>\n",
       "    </tr>\n",
       "    <tr>\n",
       "      <th>3</th>\n",
       "      <td>2006-12-16 17:27:00</td>\n",
       "      <td>5.388</td>\n",
       "      <td>0.502</td>\n",
       "      <td>233.74</td>\n",
       "      <td>23.0</td>\n",
       "      <td>0.0</td>\n",
       "      <td>1.0</td>\n",
       "      <td>17.0</td>\n",
       "    </tr>\n",
       "    <tr>\n",
       "      <th>4</th>\n",
       "      <td>2006-12-16 17:28:00</td>\n",
       "      <td>3.666</td>\n",
       "      <td>0.528</td>\n",
       "      <td>235.68</td>\n",
       "      <td>15.8</td>\n",
       "      <td>0.0</td>\n",
       "      <td>1.0</td>\n",
       "      <td>17.0</td>\n",
       "    </tr>\n",
       "  </tbody>\n",
       "</table>\n",
       "</div>"
      ],
      "text/plain": [
       "                    dt  Global_active_power  Global_reactive_power  Voltage  \\\n",
       "0  2006-12-16 17:24:00                4.216                  0.418   234.84   \n",
       "1  2006-12-16 17:25:00                5.360                  0.436   233.63   \n",
       "2  2006-12-16 17:26:00                5.374                  0.498   233.29   \n",
       "3  2006-12-16 17:27:00                5.388                  0.502   233.74   \n",
       "4  2006-12-16 17:28:00                3.666                  0.528   235.68   \n",
       "\n",
       "   Global_intensity  Sub_metering_1  Sub_metering_2  Sub_metering_3  \n",
       "0              18.4             0.0             1.0            17.0  \n",
       "1              23.0             0.0             1.0            16.0  \n",
       "2              23.0             0.0             2.0            17.0  \n",
       "3              23.0             0.0             1.0            17.0  \n",
       "4              15.8             0.0             1.0            17.0  "
      ]
     },
     "execution_count": 6,
     "metadata": {},
     "output_type": "execute_result"
    }
   ],
   "source": [
    "df.head()"
   ]
  },
  {
   "cell_type": "markdown",
   "id": "0d54f092",
   "metadata": {
    "id": "0d54f092"
   },
   "source": [
    "### Null values"
   ]
  },
  {
   "cell_type": "code",
   "execution_count": 7,
   "id": "91c2f345",
   "metadata": {
    "colab": {
     "base_uri": "https://localhost:8080/",
     "height": 576
    },
    "id": "91c2f345",
    "outputId": "6890e872-9d41-4a25-e11d-7761a025635a"
   },
   "outputs": [
    {
     "data": {
      "text/html": [
       "<div>\n",
       "<style scoped>\n",
       "    .dataframe tbody tr th:only-of-type {\n",
       "        vertical-align: middle;\n",
       "    }\n",
       "\n",
       "    .dataframe tbody tr th {\n",
       "        vertical-align: top;\n",
       "    }\n",
       "\n",
       "    .dataframe thead th {\n",
       "        text-align: right;\n",
       "    }\n",
       "</style>\n",
       "<table border=\"1\" class=\"dataframe\">\n",
       "  <thead>\n",
       "    <tr style=\"text-align: right;\">\n",
       "      <th></th>\n",
       "      <th>dt</th>\n",
       "      <th>Global_active_power</th>\n",
       "      <th>Global_reactive_power</th>\n",
       "      <th>Voltage</th>\n",
       "      <th>Global_intensity</th>\n",
       "      <th>Sub_metering_1</th>\n",
       "      <th>Sub_metering_2</th>\n",
       "      <th>Sub_metering_3</th>\n",
       "    </tr>\n",
       "  </thead>\n",
       "  <tbody>\n",
       "    <tr>\n",
       "      <th>6839</th>\n",
       "      <td>2006-12-21 11:23:00</td>\n",
       "      <td>NaN</td>\n",
       "      <td>NaN</td>\n",
       "      <td>NaN</td>\n",
       "      <td>NaN</td>\n",
       "      <td>NaN</td>\n",
       "      <td>NaN</td>\n",
       "      <td>NaN</td>\n",
       "    </tr>\n",
       "    <tr>\n",
       "      <th>6840</th>\n",
       "      <td>2006-12-21 11:24:00</td>\n",
       "      <td>NaN</td>\n",
       "      <td>NaN</td>\n",
       "      <td>NaN</td>\n",
       "      <td>NaN</td>\n",
       "      <td>NaN</td>\n",
       "      <td>NaN</td>\n",
       "      <td>NaN</td>\n",
       "    </tr>\n",
       "    <tr>\n",
       "      <th>19724</th>\n",
       "      <td>2006-12-30 10:08:00</td>\n",
       "      <td>NaN</td>\n",
       "      <td>NaN</td>\n",
       "      <td>NaN</td>\n",
       "      <td>NaN</td>\n",
       "      <td>NaN</td>\n",
       "      <td>NaN</td>\n",
       "      <td>NaN</td>\n",
       "    </tr>\n",
       "    <tr>\n",
       "      <th>19725</th>\n",
       "      <td>2006-12-30 10:09:00</td>\n",
       "      <td>NaN</td>\n",
       "      <td>NaN</td>\n",
       "      <td>NaN</td>\n",
       "      <td>NaN</td>\n",
       "      <td>NaN</td>\n",
       "      <td>NaN</td>\n",
       "      <td>NaN</td>\n",
       "    </tr>\n",
       "    <tr>\n",
       "      <th>41832</th>\n",
       "      <td>2007-01-14 18:36:00</td>\n",
       "      <td>NaN</td>\n",
       "      <td>NaN</td>\n",
       "      <td>NaN</td>\n",
       "      <td>NaN</td>\n",
       "      <td>NaN</td>\n",
       "      <td>NaN</td>\n",
       "      <td>NaN</td>\n",
       "    </tr>\n",
       "    <tr>\n",
       "      <th>...</th>\n",
       "      <td>...</td>\n",
       "      <td>...</td>\n",
       "      <td>...</td>\n",
       "      <td>...</td>\n",
       "      <td>...</td>\n",
       "      <td>...</td>\n",
       "      <td>...</td>\n",
       "      <td>...</td>\n",
       "    </tr>\n",
       "    <tr>\n",
       "      <th>194216</th>\n",
       "      <td>2007-04-30 14:20:00</td>\n",
       "      <td>NaN</td>\n",
       "      <td>NaN</td>\n",
       "      <td>NaN</td>\n",
       "      <td>NaN</td>\n",
       "      <td>NaN</td>\n",
       "      <td>NaN</td>\n",
       "      <td>NaN</td>\n",
       "    </tr>\n",
       "    <tr>\n",
       "      <th>194217</th>\n",
       "      <td>2007-04-30 14:21:00</td>\n",
       "      <td>NaN</td>\n",
       "      <td>NaN</td>\n",
       "      <td>NaN</td>\n",
       "      <td>NaN</td>\n",
       "      <td>NaN</td>\n",
       "      <td>NaN</td>\n",
       "      <td>NaN</td>\n",
       "    </tr>\n",
       "    <tr>\n",
       "      <th>194218</th>\n",
       "      <td>2007-04-30 14:22:00</td>\n",
       "      <td>NaN</td>\n",
       "      <td>NaN</td>\n",
       "      <td>NaN</td>\n",
       "      <td>NaN</td>\n",
       "      <td>NaN</td>\n",
       "      <td>NaN</td>\n",
       "      <td>NaN</td>\n",
       "    </tr>\n",
       "    <tr>\n",
       "      <th>194219</th>\n",
       "      <td>2007-04-30 14:23:00</td>\n",
       "      <td>NaN</td>\n",
       "      <td>NaN</td>\n",
       "      <td>NaN</td>\n",
       "      <td>NaN</td>\n",
       "      <td>NaN</td>\n",
       "      <td>NaN</td>\n",
       "      <td>NaN</td>\n",
       "    </tr>\n",
       "    <tr>\n",
       "      <th>228165</th>\n",
       "      <td>2007-05-24 04:09:00</td>\n",
       "      <td>0.38</td>\n",
       "      <td>0.172</td>\n",
       "      <td>236.67</td>\n",
       "      <td>1.8</td>\n",
       "      <td>0.0</td>\n",
       "      <td>NaN</td>\n",
       "      <td>NaN</td>\n",
       "    </tr>\n",
       "  </tbody>\n",
       "</table>\n",
       "<p>3733 rows × 8 columns</p>\n",
       "</div>"
      ],
      "text/plain": [
       "                         dt  Global_active_power  Global_reactive_power  \\\n",
       "6839    2006-12-21 11:23:00                  NaN                    NaN   \n",
       "6840    2006-12-21 11:24:00                  NaN                    NaN   \n",
       "19724   2006-12-30 10:08:00                  NaN                    NaN   \n",
       "19725   2006-12-30 10:09:00                  NaN                    NaN   \n",
       "41832   2007-01-14 18:36:00                  NaN                    NaN   \n",
       "...                     ...                  ...                    ...   \n",
       "194216  2007-04-30 14:20:00                  NaN                    NaN   \n",
       "194217  2007-04-30 14:21:00                  NaN                    NaN   \n",
       "194218  2007-04-30 14:22:00                  NaN                    NaN   \n",
       "194219  2007-04-30 14:23:00                  NaN                    NaN   \n",
       "228165  2007-05-24 04:09:00                 0.38                  0.172   \n",
       "\n",
       "        Voltage  Global_intensity  Sub_metering_1  Sub_metering_2  \\\n",
       "6839        NaN               NaN             NaN             NaN   \n",
       "6840        NaN               NaN             NaN             NaN   \n",
       "19724       NaN               NaN             NaN             NaN   \n",
       "19725       NaN               NaN             NaN             NaN   \n",
       "41832       NaN               NaN             NaN             NaN   \n",
       "...         ...               ...             ...             ...   \n",
       "194216      NaN               NaN             NaN             NaN   \n",
       "194217      NaN               NaN             NaN             NaN   \n",
       "194218      NaN               NaN             NaN             NaN   \n",
       "194219      NaN               NaN             NaN             NaN   \n",
       "228165   236.67               1.8             0.0             NaN   \n",
       "\n",
       "        Sub_metering_3  \n",
       "6839               NaN  \n",
       "6840               NaN  \n",
       "19724              NaN  \n",
       "19725              NaN  \n",
       "41832              NaN  \n",
       "...                ...  \n",
       "194216             NaN  \n",
       "194217             NaN  \n",
       "194218             NaN  \n",
       "194219             NaN  \n",
       "228165             NaN  \n",
       "\n",
       "[3733 rows x 8 columns]"
      ]
     },
     "execution_count": 7,
     "metadata": {},
     "output_type": "execute_result"
    }
   ],
   "source": [
    "df[df.isna().any(axis=1)]"
   ]
  },
  {
   "cell_type": "code",
   "execution_count": 8,
   "id": "9edb6ff5",
   "metadata": {
    "colab": {
     "base_uri": "https://localhost:8080/"
    },
    "id": "9edb6ff5",
    "outputId": "7d6dba97-140f-4f2a-c12a-73ab707fc25e"
   },
   "outputs": [
    {
     "data": {
      "text/plain": [
       "dt                       0.000000\n",
       "Global_active_power      1.635651\n",
       "Global_reactive_power    1.635651\n",
       "Voltage                  1.635651\n",
       "Global_intensity         1.635651\n",
       "Sub_metering_1           1.635651\n",
       "Sub_metering_2           1.636090\n",
       "Sub_metering_3           1.636090\n",
       "dtype: float64"
      ]
     },
     "execution_count": 8,
     "metadata": {},
     "output_type": "execute_result"
    }
   ],
   "source": [
    "df.isnull().mean()*100"
   ]
  },
  {
   "cell_type": "code",
   "execution_count": 9,
   "id": "6e81dfb9",
   "metadata": {
    "id": "6e81dfb9"
   },
   "outputs": [],
   "source": [
    "# df.fillna(method='ffill', inplace=True)\n",
    "df = df.dropna()"
   ]
  },
  {
   "cell_type": "markdown",
   "id": "b91e60c7",
   "metadata": {
    "id": "b91e60c7"
   },
   "source": [
    "Dropped all the rows having null values."
   ]
  },
  {
   "cell_type": "code",
   "execution_count": 10,
   "id": "784f5abe",
   "metadata": {
    "colab": {
     "base_uri": "https://localhost:8080/"
    },
    "id": "784f5abe",
    "outputId": "a1bf3d2d-bf27-47f4-ad37-17c9d0131b91"
   },
   "outputs": [
    {
     "data": {
      "text/plain": [
       "dt                       0.0\n",
       "Global_active_power      0.0\n",
       "Global_reactive_power    0.0\n",
       "Voltage                  0.0\n",
       "Global_intensity         0.0\n",
       "Sub_metering_1           0.0\n",
       "Sub_metering_2           0.0\n",
       "Sub_metering_3           0.0\n",
       "dtype: float64"
      ]
     },
     "execution_count": 10,
     "metadata": {},
     "output_type": "execute_result"
    }
   ],
   "source": [
    "df.isnull().mean()*100"
   ]
  },
  {
   "cell_type": "markdown",
   "id": "b5dbc7f2",
   "metadata": {
    "id": "b5dbc7f2"
   },
   "source": [
    "### Duplicate Data"
   ]
  },
  {
   "cell_type": "code",
   "execution_count": 11,
   "id": "e71df161",
   "metadata": {
    "colab": {
     "base_uri": "https://localhost:8080/"
    },
    "id": "e71df161",
    "outputId": "2b2e959b-53a2-44fc-fe93-8935e8e73211"
   },
   "outputs": [
    {
     "data": {
      "text/html": [
       "<div>\n",
       "<style scoped>\n",
       "    .dataframe tbody tr th:only-of-type {\n",
       "        vertical-align: middle;\n",
       "    }\n",
       "\n",
       "    .dataframe tbody tr th {\n",
       "        vertical-align: top;\n",
       "    }\n",
       "\n",
       "    .dataframe thead th {\n",
       "        text-align: right;\n",
       "    }\n",
       "</style>\n",
       "<table border=\"1\" class=\"dataframe\">\n",
       "  <thead>\n",
       "    <tr style=\"text-align: right;\">\n",
       "      <th></th>\n",
       "      <th>dt</th>\n",
       "      <th>Global_active_power</th>\n",
       "      <th>Global_reactive_power</th>\n",
       "      <th>Voltage</th>\n",
       "      <th>Global_intensity</th>\n",
       "      <th>Sub_metering_1</th>\n",
       "      <th>Sub_metering_2</th>\n",
       "      <th>Sub_metering_3</th>\n",
       "    </tr>\n",
       "  </thead>\n",
       "  <tbody>\n",
       "  </tbody>\n",
       "</table>\n",
       "</div>"
      ],
      "text/plain": [
       "Empty DataFrame\n",
       "Columns: [dt, Global_active_power, Global_reactive_power, Voltage, Global_intensity, Sub_metering_1, Sub_metering_2, Sub_metering_3]\n",
       "Index: []"
      ]
     },
     "execution_count": 11,
     "metadata": {},
     "output_type": "execute_result"
    }
   ],
   "source": [
    "df[df.duplicated(keep=False)]"
   ]
  },
  {
   "cell_type": "markdown",
   "id": "bbb073e8",
   "metadata": {
    "id": "bbb073e8"
   },
   "source": [
    "No duplicate rows were found."
   ]
  },
  {
   "cell_type": "markdown",
   "id": "d0ccdaf4",
   "metadata": {
    "id": "d0ccdaf4"
   },
   "source": [
    "### Constant Column"
   ]
  },
  {
   "cell_type": "code",
   "execution_count": 12,
   "id": "6e5c6f91",
   "metadata": {
    "colab": {
     "base_uri": "https://localhost:8080/"
    },
    "id": "6e5c6f91",
    "outputId": "4c5f3a1a-3ebe-48d2-9aed-b632ecc818e9"
   },
   "outputs": [
    {
     "data": {
      "text/plain": [
       "dt                       224433\n",
       "Global_active_power        3622\n",
       "Global_reactive_power       400\n",
       "Voltage                    2353\n",
       "Global_intensity            204\n",
       "Sub_metering_1               73\n",
       "Sub_metering_2               79\n",
       "Sub_metering_3               21\n",
       "dtype: int64"
      ]
     },
     "execution_count": 12,
     "metadata": {},
     "output_type": "execute_result"
    }
   ],
   "source": [
    "df.nunique()"
   ]
  },
  {
   "cell_type": "markdown",
   "id": "b30d507e",
   "metadata": {
    "id": "b30d507e"
   },
   "source": [
    "We don't have constant column. But, we have column 'dt' that have all values unique, which indicates that the feature is not important for our model. But before deleting this column, we will try to extract some usefull information from this feature."
   ]
  },
  {
   "cell_type": "markdown",
   "id": "9ea8bf1b",
   "metadata": {
    "id": "9ea8bf1b"
   },
   "source": [
    "### Quasi-Constant Column"
   ]
  },
  {
   "cell_type": "code",
   "execution_count": 13,
   "id": "2afe6b7d",
   "metadata": {
    "colab": {
     "base_uri": "https://localhost:8080/",
     "height": 183
    },
    "id": "2afe6b7d",
    "outputId": "c5692a95-7ed2-4742-dbf9-1b28068a90db"
   },
   "outputs": [
    {
     "data": {
      "text/html": [
       "<div>\n",
       "<style scoped>\n",
       "    .dataframe tbody tr th:only-of-type {\n",
       "        vertical-align: middle;\n",
       "    }\n",
       "\n",
       "    .dataframe tbody tr th {\n",
       "        vertical-align: top;\n",
       "    }\n",
       "\n",
       "    .dataframe thead th {\n",
       "        text-align: right;\n",
       "    }\n",
       "</style>\n",
       "<table border=\"1\" class=\"dataframe\">\n",
       "  <thead>\n",
       "    <tr style=\"text-align: right;\">\n",
       "      <th></th>\n",
       "      <th>Desc</th>\n",
       "      <th>Var</th>\n",
       "      <th>Value</th>\n",
       "      <th>Perc</th>\n",
       "    </tr>\n",
       "  </thead>\n",
       "  <tbody>\n",
       "    <tr>\n",
       "      <th>0</th>\n",
       "      <td>Quasi Constant</td>\n",
       "      <td>Sub_metering_1</td>\n",
       "      <td>0.0</td>\n",
       "      <td>91.508379</td>\n",
       "    </tr>\n",
       "  </tbody>\n",
       "</table>\n",
       "</div>"
      ],
      "text/plain": [
       "             Desc             Var  Value       Perc\n",
       "0  Quasi Constant  Sub_metering_1    0.0  91.508379"
      ]
     },
     "execution_count": 13,
     "metadata": {},
     "output_type": "execute_result"
    }
   ],
   "source": [
    "quasi_features = get_constant_features(df, threshold=0.90, dropna=False)\n",
    "quasi_features"
   ]
  },
  {
   "cell_type": "markdown",
   "id": "63b56046",
   "metadata": {
    "id": "63b56046"
   },
   "source": [
    "'Sub_metering_1' is the Quasi-Constant Column. But, we'll drop it after we have successfully captured the traget column."
   ]
  },
  {
   "cell_type": "code",
   "execution_count": 14,
   "id": "84e878b6",
   "metadata": {
    "id": "84e878b6"
   },
   "outputs": [
    {
     "data": {
      "text/plain": [
       "['Sub_metering_1']"
      ]
     },
     "execution_count": 14,
     "metadata": {},
     "output_type": "execute_result"
    }
   ],
   "source": [
    "quasi_list = quasi_features.query(\"Desc=='Quasi Constant'\")['Var'].to_list()\n",
    "quasi_list"
   ]
  },
  {
   "cell_type": "markdown",
   "id": "77aefdf2",
   "metadata": {
    "id": "77aefdf2"
   },
   "source": [
    "\n",
    "### Correlation Table"
   ]
  },
  {
   "cell_type": "code",
   "execution_count": 15,
   "id": "68c1d625",
   "metadata": {
    "id": "68c1d625"
   },
   "outputs": [
    {
     "data": {
      "text/html": [
       "<div>\n",
       "<style scoped>\n",
       "    .dataframe tbody tr th:only-of-type {\n",
       "        vertical-align: middle;\n",
       "    }\n",
       "\n",
       "    .dataframe tbody tr th {\n",
       "        vertical-align: top;\n",
       "    }\n",
       "\n",
       "    .dataframe thead th {\n",
       "        text-align: right;\n",
       "    }\n",
       "</style>\n",
       "<table border=\"1\" class=\"dataframe\">\n",
       "  <thead>\n",
       "    <tr style=\"text-align: right;\">\n",
       "      <th></th>\n",
       "      <th>Global_active_power</th>\n",
       "      <th>Global_reactive_power</th>\n",
       "      <th>Voltage</th>\n",
       "      <th>Global_intensity</th>\n",
       "      <th>Sub_metering_1</th>\n",
       "      <th>Sub_metering_2</th>\n",
       "      <th>Sub_metering_3</th>\n",
       "    </tr>\n",
       "  </thead>\n",
       "  <tbody>\n",
       "    <tr>\n",
       "      <th>Global_active_power</th>\n",
       "      <td>1.000000</td>\n",
       "      <td>0.276842</td>\n",
       "      <td>0.400044</td>\n",
       "      <td>0.999016</td>\n",
       "      <td>0.447294</td>\n",
       "      <td>0.450007</td>\n",
       "      <td>0.591465</td>\n",
       "    </tr>\n",
       "    <tr>\n",
       "      <th>Global_reactive_power</th>\n",
       "      <td>0.276842</td>\n",
       "      <td>1.000000</td>\n",
       "      <td>0.117158</td>\n",
       "      <td>0.290140</td>\n",
       "      <td>0.137566</td>\n",
       "      <td>0.175008</td>\n",
       "      <td>0.097029</td>\n",
       "    </tr>\n",
       "    <tr>\n",
       "      <th>Voltage</th>\n",
       "      <td>0.400044</td>\n",
       "      <td>0.117158</td>\n",
       "      <td>1.000000</td>\n",
       "      <td>0.410820</td>\n",
       "      <td>0.215826</td>\n",
       "      <td>0.177507</td>\n",
       "      <td>0.288598</td>\n",
       "    </tr>\n",
       "    <tr>\n",
       "      <th>Global_intensity</th>\n",
       "      <td>0.999016</td>\n",
       "      <td>0.290140</td>\n",
       "      <td>0.410820</td>\n",
       "      <td>1.000000</td>\n",
       "      <td>0.452397</td>\n",
       "      <td>0.455391</td>\n",
       "      <td>0.582042</td>\n",
       "    </tr>\n",
       "    <tr>\n",
       "      <th>Sub_metering_1</th>\n",
       "      <td>0.447294</td>\n",
       "      <td>0.137566</td>\n",
       "      <td>0.215826</td>\n",
       "      <td>0.452397</td>\n",
       "      <td>1.000000</td>\n",
       "      <td>0.070779</td>\n",
       "      <td>0.123625</td>\n",
       "    </tr>\n",
       "    <tr>\n",
       "      <th>Sub_metering_2</th>\n",
       "      <td>0.450007</td>\n",
       "      <td>0.175008</td>\n",
       "      <td>0.177507</td>\n",
       "      <td>0.455391</td>\n",
       "      <td>0.070779</td>\n",
       "      <td>1.000000</td>\n",
       "      <td>0.110616</td>\n",
       "    </tr>\n",
       "    <tr>\n",
       "      <th>Sub_metering_3</th>\n",
       "      <td>0.591465</td>\n",
       "      <td>0.097029</td>\n",
       "      <td>0.288598</td>\n",
       "      <td>0.582042</td>\n",
       "      <td>0.123625</td>\n",
       "      <td>0.110616</td>\n",
       "      <td>1.000000</td>\n",
       "    </tr>\n",
       "  </tbody>\n",
       "</table>\n",
       "</div>"
      ],
      "text/plain": [
       "                       Global_active_power  Global_reactive_power   Voltage  \\\n",
       "Global_active_power               1.000000               0.276842  0.400044   \n",
       "Global_reactive_power             0.276842               1.000000  0.117158   \n",
       "Voltage                           0.400044               0.117158  1.000000   \n",
       "Global_intensity                  0.999016               0.290140  0.410820   \n",
       "Sub_metering_1                    0.447294               0.137566  0.215826   \n",
       "Sub_metering_2                    0.450007               0.175008  0.177507   \n",
       "Sub_metering_3                    0.591465               0.097029  0.288598   \n",
       "\n",
       "                       Global_intensity  Sub_metering_1  Sub_metering_2  \\\n",
       "Global_active_power            0.999016        0.447294        0.450007   \n",
       "Global_reactive_power          0.290140        0.137566        0.175008   \n",
       "Voltage                        0.410820        0.215826        0.177507   \n",
       "Global_intensity               1.000000        0.452397        0.455391   \n",
       "Sub_metering_1                 0.452397        1.000000        0.070779   \n",
       "Sub_metering_2                 0.455391        0.070779        1.000000   \n",
       "Sub_metering_3                 0.582042        0.123625        0.110616   \n",
       "\n",
       "                       Sub_metering_3  \n",
       "Global_active_power          0.591465  \n",
       "Global_reactive_power        0.097029  \n",
       "Voltage                      0.288598  \n",
       "Global_intensity             0.582042  \n",
       "Sub_metering_1               0.123625  \n",
       "Sub_metering_2               0.110616  \n",
       "Sub_metering_3               1.000000  "
      ]
     },
     "execution_count": 15,
     "metadata": {},
     "output_type": "execute_result"
    }
   ],
   "source": [
    "corr_matrix = df.corr().abs()\n",
    "corr_matrix"
   ]
  },
  {
   "cell_type": "markdown",
   "id": "fcde61d9",
   "metadata": {
    "id": "fcde61d9"
   },
   "source": [
    "Correlation matrix will be mirror image about the diagonal and all the diagonal elements will be 1. So, It does not matter that we select the upper triangular or lower triangular part of the correlation matrix but we should not include the diagonal elements. So we are selecting the upper traingular."
   ]
  },
  {
   "cell_type": "code",
   "execution_count": 16,
   "id": "40ebabb4",
   "metadata": {
    "id": "40ebabb4"
   },
   "outputs": [
    {
     "data": {
      "text/html": [
       "<div>\n",
       "<style scoped>\n",
       "    .dataframe tbody tr th:only-of-type {\n",
       "        vertical-align: middle;\n",
       "    }\n",
       "\n",
       "    .dataframe tbody tr th {\n",
       "        vertical-align: top;\n",
       "    }\n",
       "\n",
       "    .dataframe thead th {\n",
       "        text-align: right;\n",
       "    }\n",
       "</style>\n",
       "<table border=\"1\" class=\"dataframe\">\n",
       "  <thead>\n",
       "    <tr style=\"text-align: right;\">\n",
       "      <th></th>\n",
       "      <th>Global_active_power</th>\n",
       "      <th>Global_reactive_power</th>\n",
       "      <th>Voltage</th>\n",
       "      <th>Global_intensity</th>\n",
       "      <th>Sub_metering_1</th>\n",
       "      <th>Sub_metering_2</th>\n",
       "      <th>Sub_metering_3</th>\n",
       "    </tr>\n",
       "  </thead>\n",
       "  <tbody>\n",
       "    <tr>\n",
       "      <th>Global_active_power</th>\n",
       "      <td>NaN</td>\n",
       "      <td>0.276842</td>\n",
       "      <td>0.400044</td>\n",
       "      <td>0.999016</td>\n",
       "      <td>0.447294</td>\n",
       "      <td>0.450007</td>\n",
       "      <td>0.591465</td>\n",
       "    </tr>\n",
       "    <tr>\n",
       "      <th>Global_reactive_power</th>\n",
       "      <td>NaN</td>\n",
       "      <td>NaN</td>\n",
       "      <td>0.117158</td>\n",
       "      <td>0.290140</td>\n",
       "      <td>0.137566</td>\n",
       "      <td>0.175008</td>\n",
       "      <td>0.097029</td>\n",
       "    </tr>\n",
       "    <tr>\n",
       "      <th>Voltage</th>\n",
       "      <td>NaN</td>\n",
       "      <td>NaN</td>\n",
       "      <td>NaN</td>\n",
       "      <td>0.410820</td>\n",
       "      <td>0.215826</td>\n",
       "      <td>0.177507</td>\n",
       "      <td>0.288598</td>\n",
       "    </tr>\n",
       "    <tr>\n",
       "      <th>Global_intensity</th>\n",
       "      <td>NaN</td>\n",
       "      <td>NaN</td>\n",
       "      <td>NaN</td>\n",
       "      <td>NaN</td>\n",
       "      <td>0.452397</td>\n",
       "      <td>0.455391</td>\n",
       "      <td>0.582042</td>\n",
       "    </tr>\n",
       "    <tr>\n",
       "      <th>Sub_metering_1</th>\n",
       "      <td>NaN</td>\n",
       "      <td>NaN</td>\n",
       "      <td>NaN</td>\n",
       "      <td>NaN</td>\n",
       "      <td>NaN</td>\n",
       "      <td>0.070779</td>\n",
       "      <td>0.123625</td>\n",
       "    </tr>\n",
       "    <tr>\n",
       "      <th>Sub_metering_2</th>\n",
       "      <td>NaN</td>\n",
       "      <td>NaN</td>\n",
       "      <td>NaN</td>\n",
       "      <td>NaN</td>\n",
       "      <td>NaN</td>\n",
       "      <td>NaN</td>\n",
       "      <td>0.110616</td>\n",
       "    </tr>\n",
       "    <tr>\n",
       "      <th>Sub_metering_3</th>\n",
       "      <td>NaN</td>\n",
       "      <td>NaN</td>\n",
       "      <td>NaN</td>\n",
       "      <td>NaN</td>\n",
       "      <td>NaN</td>\n",
       "      <td>NaN</td>\n",
       "      <td>NaN</td>\n",
       "    </tr>\n",
       "  </tbody>\n",
       "</table>\n",
       "</div>"
      ],
      "text/plain": [
       "                       Global_active_power  Global_reactive_power   Voltage  \\\n",
       "Global_active_power                    NaN               0.276842  0.400044   \n",
       "Global_reactive_power                  NaN                    NaN  0.117158   \n",
       "Voltage                                NaN                    NaN       NaN   \n",
       "Global_intensity                       NaN                    NaN       NaN   \n",
       "Sub_metering_1                         NaN                    NaN       NaN   \n",
       "Sub_metering_2                         NaN                    NaN       NaN   \n",
       "Sub_metering_3                         NaN                    NaN       NaN   \n",
       "\n",
       "                       Global_intensity  Sub_metering_1  Sub_metering_2  \\\n",
       "Global_active_power            0.999016        0.447294        0.450007   \n",
       "Global_reactive_power          0.290140        0.137566        0.175008   \n",
       "Voltage                        0.410820        0.215826        0.177507   \n",
       "Global_intensity                    NaN        0.452397        0.455391   \n",
       "Sub_metering_1                      NaN             NaN        0.070779   \n",
       "Sub_metering_2                      NaN             NaN             NaN   \n",
       "Sub_metering_3                      NaN             NaN             NaN   \n",
       "\n",
       "                       Sub_metering_3  \n",
       "Global_active_power          0.591465  \n",
       "Global_reactive_power        0.097029  \n",
       "Voltage                      0.288598  \n",
       "Global_intensity             0.582042  \n",
       "Sub_metering_1               0.123625  \n",
       "Sub_metering_2               0.110616  \n",
       "Sub_metering_3                    NaN  "
      ]
     },
     "execution_count": 16,
     "metadata": {},
     "output_type": "execute_result"
    }
   ],
   "source": [
    "upper_tri = corr_matrix.where(np.triu(np.ones(corr_matrix.shape),k=1).astype(np.bool))\n",
    "upper_tri"
   ]
  },
  {
   "cell_type": "markdown",
   "id": "2bdc60ff",
   "metadata": {
    "id": "2bdc60ff"
   },
   "source": [
    "'Global_active_power' & 'Global_intensity' are highly correlated. We are selecting the columns which are having absolute correlation greater than 0.90 and making a list of those columns named 'high_corr'."
   ]
  },
  {
   "cell_type": "code",
   "execution_count": 17,
   "id": "2714ad03",
   "metadata": {
    "id": "2714ad03"
   },
   "outputs": [
    {
     "data": {
      "text/plain": [
       "['Global_intensity']"
      ]
     },
     "execution_count": 17,
     "metadata": {},
     "output_type": "execute_result"
    }
   ],
   "source": [
    "high_corr = [column for column in upper_tri.columns if any(upper_tri[column] > 0.90)]\n",
    "high_corr"
   ]
  },
  {
   "cell_type": "code",
   "execution_count": 18,
   "id": "dc04f7f2",
   "metadata": {
    "id": "dc04f7f2"
   },
   "outputs": [],
   "source": [
    "df.drop(high_corr, axis=1, inplace=True)"
   ]
  },
  {
   "cell_type": "code",
   "execution_count": 19,
   "id": "a444c3d1",
   "metadata": {
    "id": "a444c3d1"
   },
   "outputs": [
    {
     "data": {
      "text/plain": [
       "Index(['dt', 'Global_active_power', 'Global_reactive_power', 'Voltage',\n",
       "       'Sub_metering_1', 'Sub_metering_2', 'Sub_metering_3'],\n",
       "      dtype='object')"
      ]
     },
     "execution_count": 19,
     "metadata": {},
     "output_type": "execute_result"
    }
   ],
   "source": [
    "df.columns"
   ]
  },
  {
   "cell_type": "markdown",
   "id": "a4c69731",
   "metadata": {
    "id": "a4c69731"
   },
   "source": [
    "## Date Time Conversion\n"
   ]
  },
  {
   "cell_type": "markdown",
   "id": "a39dd646",
   "metadata": {
    "id": "a39dd646"
   },
   "source": [
    "### Data Types for each column"
   ]
  },
  {
   "cell_type": "code",
   "execution_count": 20,
   "id": "f9273940",
   "metadata": {
    "id": "f9273940"
   },
   "outputs": [
    {
     "data": {
      "text/plain": [
       "dt                        object\n",
       "Global_active_power      float64\n",
       "Global_reactive_power    float64\n",
       "Voltage                  float64\n",
       "Sub_metering_1           float64\n",
       "Sub_metering_2           float64\n",
       "Sub_metering_3           float64\n",
       "dtype: object"
      ]
     },
     "execution_count": 20,
     "metadata": {},
     "output_type": "execute_result"
    }
   ],
   "source": [
    "df.dtypes"
   ]
  },
  {
   "cell_type": "markdown",
   "id": "5d3406b0",
   "metadata": {
    "id": "5d3406b0"
   },
   "source": [
    "### Converting the above column into \"%Y%m%d\" format"
   ]
  },
  {
   "cell_type": "code",
   "execution_count": 21,
   "id": "a2203512",
   "metadata": {
    "id": "a2203512"
   },
   "outputs": [],
   "source": [
    "df['Date'] = pd.to_datetime(df['dt'], format = '%Y-%m-%d').dt.date\n",
    "df['Date'] = pd.to_datetime(df['Date'], format = '%Y-%m-%d')"
   ]
  },
  {
   "cell_type": "markdown",
   "id": "36fa6399",
   "metadata": {
    "id": "36fa6399"
   },
   "source": [
    "### Extracting Time"
   ]
  },
  {
   "cell_type": "code",
   "execution_count": 22,
   "id": "9cf38f57",
   "metadata": {
    "id": "9cf38f57"
   },
   "outputs": [],
   "source": [
    "df['Time'] = pd.to_datetime(df['dt'], format = '%Y-%m-%d').dt.time\n",
    "df['Time'] = pd.to_datetime(df['Time'], format = '%H:%M:%S')"
   ]
  },
  {
   "cell_type": "markdown",
   "id": "26baa79e",
   "metadata": {
    "id": "26baa79e"
   },
   "source": [
    "### Extracting Year"
   ]
  },
  {
   "cell_type": "code",
   "execution_count": 23,
   "id": "68a7c61f",
   "metadata": {
    "id": "68a7c61f"
   },
   "outputs": [],
   "source": [
    "df['Year'] = pd.to_datetime(df['dt'], format = '%Y-%m-%d').dt.year"
   ]
  },
  {
   "cell_type": "code",
   "execution_count": 24,
   "id": "cc7c6126",
   "metadata": {
    "id": "cc7c6126"
   },
   "outputs": [],
   "source": [
    "def unique_dates(year):\n",
    "    df_temp = df[df.Year==year]\n",
    "    print(year,\":\",df_temp.Date.nunique())"
   ]
  },
  {
   "cell_type": "code",
   "execution_count": 25,
   "id": "caa1b25d",
   "metadata": {
    "id": "caa1b25d"
   },
   "outputs": [
    {
     "name": "stdout",
     "output_type": "stream",
     "text": [
      "2006 : 16\n",
      "2007 : 143\n"
     ]
    }
   ],
   "source": [
    "unique_years = df.Year.unique()\n",
    "for i in unique_years:\n",
    "    unique_dates(i)"
   ]
  },
  {
   "cell_type": "markdown",
   "id": "c296458a",
   "metadata": {
    "id": "c296458a"
   },
   "source": [
    "We can see, for the Year 2006, we only have the data for 16 days. Which will not help us understand the flow of data for that year. Thus we will drop the data for the Year 2006 and then analyse our data."
   ]
  },
  {
   "cell_type": "code",
   "execution_count": 26,
   "id": "619119df",
   "metadata": {
    "id": "619119df"
   },
   "outputs": [
    {
     "data": {
      "text/plain": [
       "array([2007], dtype=int64)"
      ]
     },
     "execution_count": 26,
     "metadata": {},
     "output_type": "execute_result"
    }
   ],
   "source": [
    "df = df[df.Year>2006]\n",
    "df.reset_index(inplace = True, drop=True)\n",
    "df.Year.unique()"
   ]
  },
  {
   "cell_type": "code",
   "execution_count": 27,
   "id": "9b6aff6c",
   "metadata": {
    "id": "9b6aff6c"
   },
   "outputs": [
    {
     "data": {
      "text/plain": [
       "dt                       202441\n",
       "Global_active_power        3541\n",
       "Global_reactive_power       396\n",
       "Voltage                    2241\n",
       "Sub_metering_1               70\n",
       "Sub_metering_2               79\n",
       "Sub_metering_3               21\n",
       "Date                        143\n",
       "Time                       1440\n",
       "Year                          1\n",
       "dtype: int64"
      ]
     },
     "execution_count": 27,
     "metadata": {},
     "output_type": "execute_result"
    }
   ],
   "source": [
    "df.nunique()"
   ]
  },
  {
   "cell_type": "markdown",
   "id": "8675ee4b",
   "metadata": {
    "id": "8675ee4b"
   },
   "source": [
    "Now, since we have captured date from the column 'dt'. We can drop this column."
   ]
  },
  {
   "cell_type": "code",
   "execution_count": 28,
   "id": "a2c240b8",
   "metadata": {
    "id": "a2c240b8"
   },
   "outputs": [],
   "source": [
    "df.drop('dt', axis=1, inplace=True)"
   ]
  },
  {
   "cell_type": "markdown",
   "id": "26d5f525",
   "metadata": {
    "id": "26d5f525"
   },
   "source": [
    "Column 'dt' was dropped."
   ]
  },
  {
   "cell_type": "code",
   "execution_count": 29,
   "id": "441c89bf",
   "metadata": {
    "id": "441c89bf"
   },
   "outputs": [
    {
     "data": {
      "text/plain": [
       "Global_active_power             float64\n",
       "Global_reactive_power           float64\n",
       "Voltage                         float64\n",
       "Sub_metering_1                  float64\n",
       "Sub_metering_2                  float64\n",
       "Sub_metering_3                  float64\n",
       "Date                     datetime64[ns]\n",
       "Time                     datetime64[ns]\n",
       "Year                              int64\n",
       "dtype: object"
      ]
     },
     "execution_count": 29,
     "metadata": {},
     "output_type": "execute_result"
    }
   ],
   "source": [
    "df.dtypes"
   ]
  },
  {
   "cell_type": "markdown",
   "id": "412d608a",
   "metadata": {
    "id": "412d608a"
   },
   "source": [
    "## Target Column"
   ]
  },
  {
   "cell_type": "code",
   "execution_count": 30,
   "id": "03ea1d8d",
   "metadata": {
    "id": "03ea1d8d"
   },
   "outputs": [],
   "source": [
    "df['Consumed_active_energy'] = (df.Global_active_power*1000/60) - df.Sub_metering_1 - df.Sub_metering_2 - df.Sub_metering_3"
   ]
  },
  {
   "cell_type": "code",
   "execution_count": 31,
   "id": "9cfc0d9b",
   "metadata": {
    "id": "9cfc0d9b"
   },
   "outputs": [
    {
     "name": "stdout",
     "output_type": "stream",
     "text": [
      "Shape before dropping quasi constant features: (202441, 10)\n",
      "Shape after dropping quasi constant features: (202441, 9)\n"
     ]
    }
   ],
   "source": [
    "print(\"Shape before dropping quasi constant features:\",df.shape)\n",
    "df.drop(quasi_list, inplace=True, axis=1)\n",
    "print(\"Shape after dropping quasi constant features:\",df.shape)"
   ]
  },
  {
   "cell_type": "code",
   "execution_count": 32,
   "id": "096e9207",
   "metadata": {
    "id": "096e9207"
   },
   "outputs": [
    {
     "data": {
      "text/plain": [
       "Index(['Global_active_power', 'Global_reactive_power', 'Voltage',\n",
       "       'Sub_metering_2', 'Sub_metering_3', 'Date', 'Time', 'Year',\n",
       "       'Consumed_active_energy'],\n",
       "      dtype='object')"
      ]
     },
     "execution_count": 32,
     "metadata": {},
     "output_type": "execute_result"
    }
   ],
   "source": [
    "df.columns"
   ]
  },
  {
   "cell_type": "markdown",
   "id": "731ad79a",
   "metadata": {
    "id": "731ad79a"
   },
   "source": [
    "## Data Splitting"
   ]
  },
  {
   "cell_type": "code",
   "execution_count": 33,
   "id": "1e22813c",
   "metadata": {
    "id": "1e22813c"
   },
   "outputs": [
    {
     "data": {
      "text/html": [
       "<div>\n",
       "<style scoped>\n",
       "    .dataframe tbody tr th:only-of-type {\n",
       "        vertical-align: middle;\n",
       "    }\n",
       "\n",
       "    .dataframe tbody tr th {\n",
       "        vertical-align: top;\n",
       "    }\n",
       "\n",
       "    .dataframe thead th {\n",
       "        text-align: right;\n",
       "    }\n",
       "</style>\n",
       "<table border=\"1\" class=\"dataframe\">\n",
       "  <thead>\n",
       "    <tr style=\"text-align: right;\">\n",
       "      <th></th>\n",
       "      <th>Global_active_power</th>\n",
       "      <th>Global_reactive_power</th>\n",
       "      <th>Voltage</th>\n",
       "      <th>Sub_metering_2</th>\n",
       "      <th>Sub_metering_3</th>\n",
       "      <th>Date</th>\n",
       "      <th>Time</th>\n",
       "      <th>Year</th>\n",
       "      <th>Consumed_active_energy</th>\n",
       "    </tr>\n",
       "  </thead>\n",
       "  <tbody>\n",
       "    <tr>\n",
       "      <th>0</th>\n",
       "      <td>2.580</td>\n",
       "      <td>0.136</td>\n",
       "      <td>241.97</td>\n",
       "      <td>0.0</td>\n",
       "      <td>0.0</td>\n",
       "      <td>2007-01-01</td>\n",
       "      <td>1900-01-01 00:00:00</td>\n",
       "      <td>2007</td>\n",
       "      <td>43.000000</td>\n",
       "    </tr>\n",
       "    <tr>\n",
       "      <th>1</th>\n",
       "      <td>2.552</td>\n",
       "      <td>0.100</td>\n",
       "      <td>241.75</td>\n",
       "      <td>0.0</td>\n",
       "      <td>0.0</td>\n",
       "      <td>2007-01-01</td>\n",
       "      <td>1900-01-01 00:01:00</td>\n",
       "      <td>2007</td>\n",
       "      <td>42.533333</td>\n",
       "    </tr>\n",
       "    <tr>\n",
       "      <th>2</th>\n",
       "      <td>2.550</td>\n",
       "      <td>0.100</td>\n",
       "      <td>241.64</td>\n",
       "      <td>0.0</td>\n",
       "      <td>0.0</td>\n",
       "      <td>2007-01-01</td>\n",
       "      <td>1900-01-01 00:02:00</td>\n",
       "      <td>2007</td>\n",
       "      <td>42.500000</td>\n",
       "    </tr>\n",
       "    <tr>\n",
       "      <th>3</th>\n",
       "      <td>2.550</td>\n",
       "      <td>0.100</td>\n",
       "      <td>241.71</td>\n",
       "      <td>0.0</td>\n",
       "      <td>0.0</td>\n",
       "      <td>2007-01-01</td>\n",
       "      <td>1900-01-01 00:03:00</td>\n",
       "      <td>2007</td>\n",
       "      <td>42.500000</td>\n",
       "    </tr>\n",
       "    <tr>\n",
       "      <th>4</th>\n",
       "      <td>2.554</td>\n",
       "      <td>0.100</td>\n",
       "      <td>241.98</td>\n",
       "      <td>0.0</td>\n",
       "      <td>0.0</td>\n",
       "      <td>2007-01-01</td>\n",
       "      <td>1900-01-01 00:04:00</td>\n",
       "      <td>2007</td>\n",
       "      <td>42.566667</td>\n",
       "    </tr>\n",
       "  </tbody>\n",
       "</table>\n",
       "</div>"
      ],
      "text/plain": [
       "   Global_active_power  Global_reactive_power  Voltage  Sub_metering_2  \\\n",
       "0                2.580                  0.136   241.97             0.0   \n",
       "1                2.552                  0.100   241.75             0.0   \n",
       "2                2.550                  0.100   241.64             0.0   \n",
       "3                2.550                  0.100   241.71             0.0   \n",
       "4                2.554                  0.100   241.98             0.0   \n",
       "\n",
       "   Sub_metering_3       Date                Time  Year  Consumed_active_energy  \n",
       "0             0.0 2007-01-01 1900-01-01 00:00:00  2007               43.000000  \n",
       "1             0.0 2007-01-01 1900-01-01 00:01:00  2007               42.533333  \n",
       "2             0.0 2007-01-01 1900-01-01 00:02:00  2007               42.500000  \n",
       "3             0.0 2007-01-01 1900-01-01 00:03:00  2007               42.500000  \n",
       "4             0.0 2007-01-01 1900-01-01 00:04:00  2007               42.566667  "
      ]
     },
     "execution_count": 33,
     "metadata": {},
     "output_type": "execute_result"
    }
   ],
   "source": [
    "df.head()"
   ]
  },
  {
   "cell_type": "markdown",
   "id": "1081e140",
   "metadata": {
    "id": "1081e140"
   },
   "source": [
    "We will be splitting total data into train-test data,in the 70:30 ratio. Later, the train data will further be divided into train-cross-validation data 70:30 ratio."
   ]
  },
  {
   "cell_type": "markdown",
   "id": "9e8df438",
   "metadata": {
    "id": "9e8df438"
   },
   "source": [
    "### Train-Test Split:"
   ]
  },
  {
   "cell_type": "code",
   "execution_count": 34,
   "id": "596f1d1d",
   "metadata": {
    "id": "596f1d1d"
   },
   "outputs": [
    {
     "data": {
      "text/plain": [
       "Index(['Global_active_power', 'Global_reactive_power', 'Voltage',\n",
       "       'Sub_metering_2', 'Sub_metering_3', 'Date', 'Time', 'Year'],\n",
       "      dtype='object')"
      ]
     },
     "execution_count": 34,
     "metadata": {},
     "output_type": "execute_result"
    }
   ],
   "source": [
    "X = df.iloc[:,:-1]\n",
    "X.columns"
   ]
  },
  {
   "cell_type": "code",
   "execution_count": 35,
   "id": "a796be31",
   "metadata": {
    "id": "a796be31"
   },
   "outputs": [
    {
     "data": {
      "text/plain": [
       "Index(['Consumed_active_energy'], dtype='object')"
      ]
     },
     "execution_count": 35,
     "metadata": {},
     "output_type": "execute_result"
    }
   ],
   "source": [
    "y = df.iloc[:,-1:]\n",
    "y.columns"
   ]
  },
  {
   "cell_type": "code",
   "execution_count": 36,
   "id": "5b61a1da",
   "metadata": {
    "id": "5b61a1da"
   },
   "outputs": [
    {
     "data": {
      "text/plain": [
       "((202441, 8), (202441, 1))"
      ]
     },
     "execution_count": 36,
     "metadata": {},
     "output_type": "execute_result"
    }
   ],
   "source": [
    "X.shape, y.shape"
   ]
  },
  {
   "cell_type": "code",
   "execution_count": 37,
   "id": "e1a5b391",
   "metadata": {
    "id": "e1a5b391"
   },
   "outputs": [],
   "source": [
    "x_train, x_test, y_train, y_test = train_test_split(X, y, test_size=0.3, random_state=1)"
   ]
  },
  {
   "cell_type": "markdown",
   "id": "09016d56",
   "metadata": {
    "id": "09016d56"
   },
   "source": [
    "* 70%: train data\n",
    "* 30%: test data"
   ]
  },
  {
   "cell_type": "markdown",
   "id": "75631137",
   "metadata": {
    "id": "75631137"
   },
   "source": [
    "#### Test Data"
   ]
  },
  {
   "cell_type": "code",
   "execution_count": 38,
   "id": "891ad0fe",
   "metadata": {
    "id": "891ad0fe"
   },
   "outputs": [],
   "source": [
    "test = x_test.join(y_test)"
   ]
  },
  {
   "cell_type": "code",
   "execution_count": 39,
   "id": "630c11ab",
   "metadata": {
    "id": "630c11ab"
   },
   "outputs": [
    {
     "data": {
      "text/plain": [
       "(60733, 9)"
      ]
     },
     "execution_count": 39,
     "metadata": {},
     "output_type": "execute_result"
    }
   ],
   "source": [
    "test.shape"
   ]
  },
  {
   "cell_type": "code",
   "execution_count": 40,
   "id": "77cac185",
   "metadata": {
    "id": "77cac185"
   },
   "outputs": [
    {
     "data": {
      "text/plain": [
       "[(60733, 8), (60733, 1)]"
      ]
     },
     "execution_count": 40,
     "metadata": {},
     "output_type": "execute_result"
    }
   ],
   "source": [
    "[x_test.shape,y_test.shape]"
   ]
  },
  {
   "cell_type": "markdown",
   "id": "3db7afed",
   "metadata": {
    "id": "3db7afed"
   },
   "source": [
    "#### Train Data"
   ]
  },
  {
   "cell_type": "code",
   "execution_count": 41,
   "id": "14589853",
   "metadata": {
    "id": "14589853"
   },
   "outputs": [],
   "source": [
    "train = x_train.join(y_train)"
   ]
  },
  {
   "cell_type": "code",
   "execution_count": 42,
   "id": "e47594dd",
   "metadata": {
    "id": "e47594dd"
   },
   "outputs": [
    {
     "data": {
      "text/plain": [
       "(141708, 9)"
      ]
     },
     "execution_count": 42,
     "metadata": {},
     "output_type": "execute_result"
    }
   ],
   "source": [
    "train.shape"
   ]
  },
  {
   "cell_type": "code",
   "execution_count": 43,
   "id": "8d26d244",
   "metadata": {
    "id": "8d26d244"
   },
   "outputs": [
    {
     "data": {
      "text/plain": [
       "[(141708, 8), (141708, 1)]"
      ]
     },
     "execution_count": 43,
     "metadata": {},
     "output_type": "execute_result"
    }
   ],
   "source": [
    "[x_train.shape,y_train.shape]"
   ]
  },
  {
   "cell_type": "markdown",
   "id": "c303b5d9",
   "metadata": {
    "id": "c303b5d9"
   },
   "source": [
    "### Train-Cross-Valiation Split:"
   ]
  },
  {
   "cell_type": "code",
   "execution_count": 44,
   "id": "ac4a2ffb",
   "metadata": {
    "id": "ac4a2ffb"
   },
   "outputs": [
    {
     "data": {
      "text/plain": [
       "Index(['Global_active_power', 'Global_reactive_power', 'Voltage',\n",
       "       'Sub_metering_2', 'Sub_metering_3', 'Date', 'Time', 'Year'],\n",
       "      dtype='object')"
      ]
     },
     "execution_count": 44,
     "metadata": {},
     "output_type": "execute_result"
    }
   ],
   "source": [
    "X = train.iloc[:,:-1]\n",
    "X.columns"
   ]
  },
  {
   "cell_type": "code",
   "execution_count": 45,
   "id": "5cafbaad",
   "metadata": {
    "id": "5cafbaad"
   },
   "outputs": [
    {
     "data": {
      "text/plain": [
       "Index(['Consumed_active_energy'], dtype='object')"
      ]
     },
     "execution_count": 45,
     "metadata": {},
     "output_type": "execute_result"
    }
   ],
   "source": [
    "y = train.iloc[:,-1:]\n",
    "y.columns"
   ]
  },
  {
   "cell_type": "code",
   "execution_count": 46,
   "id": "c318c103",
   "metadata": {
    "id": "c318c103"
   },
   "outputs": [
    {
     "data": {
      "text/plain": [
       "((141708, 8), (141708, 1))"
      ]
     },
     "execution_count": 46,
     "metadata": {},
     "output_type": "execute_result"
    }
   ],
   "source": [
    "X.shape, y.shape"
   ]
  },
  {
   "cell_type": "code",
   "execution_count": 47,
   "id": "3472cb4f",
   "metadata": {
    "id": "3472cb4f"
   },
   "outputs": [],
   "source": [
    "x_train, xcv, y_train, ycv = train_test_split(X, y, test_size=0.3, random_state=1)"
   ]
  },
  {
   "cell_type": "markdown",
   "id": "28033981",
   "metadata": {
    "id": "28033981"
   },
   "source": [
    "#### Cross-Validation Data"
   ]
  },
  {
   "cell_type": "code",
   "execution_count": 48,
   "id": "ad2378b9",
   "metadata": {
    "id": "ad2378b9"
   },
   "outputs": [
    {
     "data": {
      "text/plain": [
       "[(42513, 8), (42513, 1)]"
      ]
     },
     "execution_count": 48,
     "metadata": {},
     "output_type": "execute_result"
    }
   ],
   "source": [
    "[xcv.shape,ycv.shape]"
   ]
  },
  {
   "cell_type": "markdown",
   "id": "7dad9faa",
   "metadata": {
    "id": "7dad9faa"
   },
   "source": [
    "#### Train Data"
   ]
  },
  {
   "cell_type": "code",
   "execution_count": 49,
   "id": "4beb162a",
   "metadata": {
    "id": "4beb162a"
   },
   "outputs": [],
   "source": [
    "train = x_train.join(y_train)"
   ]
  },
  {
   "cell_type": "code",
   "execution_count": 50,
   "id": "358bae03",
   "metadata": {
    "id": "358bae03"
   },
   "outputs": [
    {
     "data": {
      "text/plain": [
       "(99195, 9)"
      ]
     },
     "execution_count": 50,
     "metadata": {},
     "output_type": "execute_result"
    }
   ],
   "source": [
    "train.shape"
   ]
  },
  {
   "cell_type": "code",
   "execution_count": 51,
   "id": "29020bbd",
   "metadata": {
    "id": "29020bbd"
   },
   "outputs": [
    {
     "data": {
      "text/plain": [
       "[(99195, 8), (99195, 1)]"
      ]
     },
     "execution_count": 51,
     "metadata": {},
     "output_type": "execute_result"
    }
   ],
   "source": [
    "[x_train.shape,y_train.shape]"
   ]
  },
  {
   "cell_type": "markdown",
   "id": "f0a8f914",
   "metadata": {
    "id": "f0a8f914"
   },
   "source": [
    "## Exploratory Data Analysis"
   ]
  },
  {
   "cell_type": "code",
   "execution_count": 52,
   "id": "1c702b10",
   "metadata": {
    "id": "1c702b10"
   },
   "outputs": [],
   "source": [
    "df_date = train.groupby(['Date']).sum()"
   ]
  },
  {
   "cell_type": "code",
   "execution_count": 53,
   "id": "613e74e2",
   "metadata": {
    "id": "613e74e2"
   },
   "outputs": [
    {
     "data": {
      "text/plain": [
       "(143, 7)"
      ]
     },
     "execution_count": 53,
     "metadata": {},
     "output_type": "execute_result"
    }
   ],
   "source": [
    "df_date.shape"
   ]
  },
  {
   "cell_type": "markdown",
   "id": "3277680c",
   "metadata": {
    "id": "3277680c"
   },
   "source": [
    "### Yearly"
   ]
  },
  {
   "cell_type": "code",
   "execution_count": 54,
   "id": "540da95f",
   "metadata": {
    "id": "540da95f"
   },
   "outputs": [
    {
     "data": {
      "image/png": "[encoded data removed]",
      "text/plain": [
       "<Figure size 2160x360 with 2 Axes>"
      ]
     },
     "metadata": {
      "needs_background": "light"
     },
     "output_type": "display_data"
    }
   ],
   "source": [
    "fig, axes = plt.subplots(1, 2, sharex=True, figsize=(30,5))\n",
    "fig.suptitle(\"Maximum Global Power Yearly\")\n",
    "\n",
    "sns.barplot(ax=axes[0], y =df_date['Global_active_power'].groupby(df_date.index.year).sum(), x=df_date.index.year.unique(), palette='flare')\n",
    "plt.xlabel(\"Year\")\n",
    "axes[0].set_title('Active Power')\n",
    "\n",
    "sns.barplot(ax=axes[1], y =df_date['Global_reactive_power'].groupby(df_date.index.year).sum(), x=df_date.index.year.unique(), palette='flare')\n",
    "axes[1].set_title('Reactive Power')\n",
    "plt.xlabel(\"Year\")\n",
    "\n",
    "plt.show()"
   ]
  },
  {
   "cell_type": "markdown",
   "id": "45e18787",
   "metadata": {
    "id": "45e18787"
   },
   "source": [
    "Both active and reactive power have been constant through out the years. There is no drastic change in these years."
   ]
  },
  {
   "cell_type": "markdown",
   "id": "de70f690",
   "metadata": {
    "id": "de70f690"
   },
   "source": [
    "### Quarterly"
   ]
  },
  {
   "cell_type": "code",
   "execution_count": 55,
   "id": "0aa81de1",
   "metadata": {
    "id": "0aa81de1"
   },
   "outputs": [
    {
     "data": {
      "image/png": "[encoded data removed]",
      "text/plain": [
       "<Figure size 1152x360 with 2 Axes>"
      ]
     },
     "metadata": {
      "needs_background": "light"
     },
     "output_type": "display_data"
    }
   ],
   "source": [
    "fig, axes = plt.subplots(1, 2, sharex=True, figsize=(16,5))\n",
    "fig.suptitle(\"Total Global Power Quarterly\")\n",
    "\n",
    "sns.lineplot(ax=axes[0], x=df_date.index.quarter, y=\"Global_reactive_power\", data=df_date)\n",
    "plt.xlabel(\"Quarter\")\n",
    "axes[0].set_title('Reactive Power')\n",
    "\n",
    "sns.lineplot(ax=axes[1], x=df_date.index.quarter, y=\"Global_active_power\", data=df_date)\n",
    "plt.xlabel(\"Quarter\")\n",
    "axes[1].set_title('Active Power')\n",
    "\n",
    "plt.show()"
   ]
  },
  {
   "cell_type": "markdown",
   "id": "4178d453",
   "metadata": {
    "id": "4178d453"
   },
   "source": [
    "Reactive power is highest for the 3rd quarter. While Active power is lowest for the same quarter."
   ]
  },
  {
   "cell_type": "markdown",
   "id": "9743e656",
   "metadata": {
    "id": "9743e656"
   },
   "source": [
    "### Monthly"
   ]
  },
  {
   "cell_type": "code",
   "execution_count": 56,
   "id": "31338a28",
   "metadata": {
    "id": "31338a28"
   },
   "outputs": [
    {
     "data": {
      "image/png": "[encoded data removed]",
      "text/plain": [
       "<Figure size 2160x360 with 2 Axes>"
      ]
     },
     "metadata": {
      "needs_background": "light"
     },
     "output_type": "display_data"
    }
   ],
   "source": [
    "fig, axes = plt.subplots(1, 2, sharex=True, figsize=(30,5))\n",
    "fig.suptitle(\"Maximum Global Power Monthly\")\n",
    "\n",
    "sns.barplot(ax=axes[0], y =df_date['Global_active_power'].groupby(df_date.index.month).sum(), x=df_date.index.month.unique(), palette='flare')\n",
    "axes[0].set_title('Active Power')\n",
    "\n",
    "sns.barplot(ax=axes[1], y =df_date['Global_reactive_power'].groupby(df_date.index.month).sum(), x=df_date.index.month.unique(), palette='flare')\n",
    "axes[1].set_title('Reactive Power')\n",
    "\n",
    "plt.show()"
   ]
  },
  {
   "cell_type": "markdown",
   "id": "1526651c",
   "metadata": {
    "id": "1526651c"
   },
   "source": [
    "For the months when the Active power decreases, Reactive power tends to increase."
   ]
  },
  {
   "cell_type": "code",
   "execution_count": 57,
   "id": "a5080c2d",
   "metadata": {
    "id": "a5080c2d"
   },
   "outputs": [
    {
     "data": {
      "image/png": "[encoded data removed]",
      "text/plain": [
       "<Figure size 1152x360 with 2 Axes>"
      ]
     },
     "metadata": {
      "needs_background": "light"
     },
     "output_type": "display_data"
    }
   ],
   "source": [
    "fig, axes = plt.subplots(1, 2, sharex=True, figsize=(16,5))\n",
    "fig.suptitle(\"Total Global Power Monthly\")\n",
    "\n",
    "sns.lineplot(ax=axes[0], x=df_date.index.month, y=\"Global_reactive_power\", data=df_date)\n",
    "plt.xlabel(\"Month\")\n",
    "axes[0].set_title('Reactive Power')\n",
    "\n",
    "sns.lineplot(ax=axes[1], x=df_date.index.month, y=\"Global_active_power\", data=df_date)\n",
    "plt.xlabel(\"Month\")\n",
    "axes[1].set_title('Active Power')\n",
    "\n",
    "plt.show()"
   ]
  },
  {
   "cell_type": "markdown",
   "id": "6091f88e",
   "metadata": {
    "id": "6091f88e"
   },
   "source": [
    "Reactive power was maximum for the month of 'July', whereas Active power was maximum at the start/end of the year. "
   ]
  },
  {
   "cell_type": "markdown",
   "id": "1c18c161",
   "metadata": {
    "id": "1c18c161"
   },
   "source": [
    "## Feature Engineering "
   ]
  },
  {
   "cell_type": "code",
   "execution_count": 58,
   "id": "95a0e0fc",
   "metadata": {
    "id": "95a0e0fc"
   },
   "outputs": [
    {
     "data": {
      "text/plain": [
       "Index(['Global_active_power', 'Global_reactive_power', 'Voltage',\n",
       "       'Sub_metering_2', 'Sub_metering_3', 'Date', 'Time', 'Year',\n",
       "       'Consumed_active_energy'],\n",
       "      dtype='object')"
      ]
     },
     "execution_count": 58,
     "metadata": {},
     "output_type": "execute_result"
    }
   ],
   "source": [
    "train.columns"
   ]
  },
  {
   "cell_type": "markdown",
   "id": "8becb6d1",
   "metadata": {
    "id": "8becb6d1"
   },
   "source": [
    "### Detecting and Handling Outliers"
   ]
  },
  {
   "cell_type": "markdown",
   "id": "7d6ff9bb",
   "metadata": {
    "id": "7d6ff9bb"
   },
   "source": [
    "Outliers will be detected and deleted from the training data only, because we want to train our model outlier free."
   ]
  },
  {
   "cell_type": "code",
   "execution_count": 59,
   "id": "cfca05c4",
   "metadata": {
    "id": "cfca05c4"
   },
   "outputs": [],
   "source": [
    "def remove_outliers_using_quantiles(qu_dataset, qu_field, qu_fence):\n",
    "    a = qu_dataset[qu_field].describe()\n",
    "    \n",
    "    iqr = a[\"75%\"] - a[\"25%\"]\n",
    "    print(\"Interquartile Range:\", iqr)\n",
    "    \n",
    "    upper_inner_fence = a[\"75%\"] + 1.5 * iqr\n",
    "    lower_inner_fence = a[\"25%\"] - 1.5 * iqr\n",
    "    print(\"Upper Limit:\", upper_inner_fence)\n",
    "    print(\"Lower Limit\", lower_inner_fence)\n",
    "    \n",
    "    upper_outer_fence = a[\"75%\"] + 3 * iqr\n",
    "    lower_outer_fence = a[\"25%\"] - 3 * iqr\n",
    "    print(\"Upper Limit:\", upper_outer_fence)\n",
    "    print(\"Lower Limit:\", lower_outer_fence)\n",
    "    \n",
    "    count_over_upper = len(qu_dataset[qu_dataset[qu_field]>upper_inner_fence])\n",
    "    count_under_lower = len(qu_dataset[qu_dataset[qu_field]<lower_inner_fence])\n",
    "    percentage = 100 * (count_under_lower + count_over_upper) / a[\"count\"]\n",
    "    print(\"Percentage of records out of inner limit: %.2f\"% (percentage))\n",
    "    \n",
    "    count_over_upper = len(qu_dataset[qu_dataset[qu_field]>upper_outer_fence])\n",
    "    count_under_lower = len(qu_dataset[qu_dataset[qu_field]<lower_outer_fence])\n",
    "    percentage = 100 * (count_under_lower + count_over_upper) / a[\"count\"]\n",
    "    print(\"Percentage of records out of outer limit: %.2f\"% (percentage))\n",
    "    \n",
    "    if qu_fence == \"inner\":\n",
    "        output_dataset = qu_dataset[qu_dataset[qu_field]<=upper_inner_fence]\n",
    "        output_dataset = output_dataset[output_dataset[qu_field]>=lower_inner_fence]\n",
    "    elif qu_fence == \"outer\":\n",
    "        output_dataset = qu_dataset[qu_dataset[qu_field]<=upper_outer_fence]\n",
    "        output_dataset = output_dataset[output_dataset[qu_field]>=lower_outer_fence]\n",
    "    else:\n",
    "        output_dataset = qu_dataset\n",
    "    \n",
    "    print(\"Length of Input Dataframe:\", len(qu_dataset))\n",
    "    print(\"Length of New Dataframe after Outlier Removal:\", len(output_dataset))\n",
    "    \n",
    "    return output_dataset"
   ]
  },
  {
   "cell_type": "code",
   "execution_count": 60,
   "id": "8271869e",
   "metadata": {
    "id": "8271869e"
   },
   "outputs": [
    {
     "name": "stdout",
     "output_type": "stream",
     "text": [
      "Interquartile Range: 9.299999999999997\n",
      "Upper Limit: 27.483333333333327\n",
      "Lower Limit -9.716666666666661\n",
      "Upper Limit: 41.43333333333332\n",
      "Lower Limit: -23.666666666666657\n",
      "Percentage of records out of inner limit: 12.20\n",
      "Percentage of records out of outer limit: 3.38\n",
      "Length of Input Dataframe: 99195\n",
      "Length of New Dataframe after Outlier Removal: 87095\n"
     ]
    }
   ],
   "source": [
    "train.dropna(inplace=True)\n",
    "new_dataset = remove_outliers_using_quantiles(train, \"Consumed_active_energy\", \"inner\")"
   ]
  },
  {
   "cell_type": "code",
   "execution_count": 61,
   "id": "7f3ca96d",
   "metadata": {
    "id": "7f3ca96d"
   },
   "outputs": [],
   "source": [
    "train = new_dataset"
   ]
  },
  {
   "cell_type": "code",
   "execution_count": 62,
   "id": "a8d94940",
   "metadata": {
    "id": "a8d94940"
   },
   "outputs": [
    {
     "data": {
      "text/plain": [
       "(87095, 9)"
      ]
     },
     "execution_count": 62,
     "metadata": {},
     "output_type": "execute_result"
    }
   ],
   "source": [
    "train.shape"
   ]
  },
  {
   "cell_type": "markdown",
   "id": "9dfb4b14",
   "metadata": {
    "id": "9dfb4b14"
   },
   "source": [
    "### Extract Quarter"
   ]
  },
  {
   "cell_type": "code",
   "execution_count": 63,
   "id": "0dc9f202",
   "metadata": {
    "id": "0dc9f202"
   },
   "outputs": [],
   "source": [
    "train[\"Quarter\"] = pd.to_datetime(train['Date'], format = '%Y-%m-%d').dt.quarter\n",
    "x_train[\"Quarter\"] = pd.to_datetime(x_train['Date'], format = '%Y-%m-%d').dt.quarter\n",
    "x_test[\"Quarter\"] = pd.to_datetime(x_test['Date'], format = '%Y-%m-%d').dt.quarter\n",
    "xcv[\"Quarter\"] = pd.to_datetime(xcv['Date'], format = '%Y-%m-%d').dt.quarter"
   ]
  },
  {
   "cell_type": "markdown",
   "id": "31d05b23",
   "metadata": {
    "id": "31d05b23"
   },
   "source": [
    "### Extract Day:"
   ]
  },
  {
   "cell_type": "code",
   "execution_count": 64,
   "id": "3a89a674",
   "metadata": {
    "id": "3a89a674"
   },
   "outputs": [],
   "source": [
    "train[\"Day\"] = pd.to_datetime(train['Date'], format = '%Y-%m-%d').dt.day\n",
    "x_train[\"Day\"] = pd.to_datetime(x_train['Date'], format = '%Y-%m-%d').dt.day\n",
    "x_test[\"Day\"] = pd.to_datetime(x_test['Date'], format = '%Y-%m-%d').dt.day\n",
    "xcv[\"Day\"] = pd.to_datetime(xcv['Date'], format = '%Y-%m-%d').dt.day"
   ]
  },
  {
   "cell_type": "markdown",
   "id": "ae0ff4ee",
   "metadata": {
    "id": "ae0ff4ee"
   },
   "source": [
    "### Extract Week:"
   ]
  },
  {
   "cell_type": "code",
   "execution_count": 65,
   "id": "38a1198b",
   "metadata": {
    "id": "38a1198b"
   },
   "outputs": [],
   "source": [
    "train[\"Week\"] = pd.to_datetime(train['Date'], format = '%Y-%m-%d').dt.week\n",
    "x_train[\"Week\"] = pd.to_datetime(x_train['Date'], format = '%Y-%m-%d').dt.week\n",
    "x_test[\"Week\"] = pd.to_datetime(x_test['Date'], format = '%Y-%m-%d').dt.week\n",
    "xcv[\"Week\"] = pd.to_datetime(xcv['Date'], format = '%Y-%m-%d').dt.week"
   ]
  },
  {
   "cell_type": "markdown",
   "id": "41e33705",
   "metadata": {
    "id": "41e33705"
   },
   "source": [
    "### Extract Month:"
   ]
  },
  {
   "cell_type": "code",
   "execution_count": 66,
   "id": "27ab9f4d",
   "metadata": {
    "id": "27ab9f4d"
   },
   "outputs": [],
   "source": [
    "train[\"Month\"] = pd.to_datetime(train['Date'], format = '%Y-%m-%d').dt.month\n",
    "x_train[\"Month\"] = pd.to_datetime(x_train['Date'], format = '%Y-%m-%d').dt.month\n",
    "x_test[\"Month\"] = pd.to_datetime(x_test['Date'], format = '%Y-%m-%d').dt.month\n",
    "xcv[\"Month\"] = pd.to_datetime(xcv['Date'], format = '%Y-%m-%d').dt.month"
   ]
  },
  {
   "cell_type": "markdown",
   "id": "aa366d59",
   "metadata": {
    "id": "aa366d59"
   },
   "source": [
    "### Extract Hour:"
   ]
  },
  {
   "cell_type": "code",
   "execution_count": 67,
   "id": "50aba6f0",
   "metadata": {
    "id": "50aba6f0"
   },
   "outputs": [],
   "source": [
    "train[\"Hour\"] = pd.to_datetime(train['Time'], format = '%Y-%m-%d').dt.hour\n",
    "x_train[\"Hour\"] = pd.to_datetime(x_train['Time'], format = '%Y-%m-%d').dt.hour\n",
    "x_test[\"Hour\"] = pd.to_datetime(x_test['Time'], format = '%Y-%m-%d').dt.hour\n",
    "xcv[\"Hour\"] = pd.to_datetime(xcv['Time'], format = '%Y-%m-%d').dt.hour"
   ]
  },
  {
   "cell_type": "markdown",
   "id": "a041d5d1",
   "metadata": {
    "id": "a041d5d1"
   },
   "source": [
    "### Extract Minute:"
   ]
  },
  {
   "cell_type": "code",
   "execution_count": 68,
   "id": "3ea475ba",
   "metadata": {
    "id": "3ea475ba"
   },
   "outputs": [],
   "source": [
    "train[\"Minute\"] = pd.to_datetime(train['Time'], format = '%Y-%m-%d').dt.minute\n",
    "x_train[\"Minute\"] = pd.to_datetime(x_train['Time'], format = '%Y-%m-%d').dt.minute\n",
    "x_test[\"Minute\"] = pd.to_datetime(x_test['Time'], format = '%Y-%m-%d').dt.minute\n",
    "xcv[\"Minute\"] = pd.to_datetime(xcv['Time'], format = '%Y-%m-%d').dt.minute"
   ]
  },
  {
   "cell_type": "markdown",
   "id": "c47f6701",
   "metadata": {
    "id": "c47f6701"
   },
   "source": [
    "### Sub_Metering_Sum:"
   ]
  },
  {
   "cell_type": "code",
   "execution_count": 69,
   "id": "4c75da48",
   "metadata": {
    "id": "4c75da48"
   },
   "outputs": [],
   "source": [
    "train['Sub_Metering_Sum'] = train['Sub_metering_2'] + train['Sub_metering_3']\n",
    "x_train['Sub_Metering_Sum'] =  x_train['Sub_metering_2'] + x_train['Sub_metering_3']\n",
    "x_test['Sub_Metering_Sum'] = x_test['Sub_metering_2'] + x_test['Sub_metering_3']\n",
    "xcv['Sub_Metering_Sum'] = xcv['Sub_metering_2'] + xcv['Sub_metering_3']"
   ]
  },
  {
   "cell_type": "markdown",
   "id": "d59ddc0f",
   "metadata": {
    "id": "d59ddc0f"
   },
   "source": [
    "### Column Name"
   ]
  },
  {
   "cell_type": "code",
   "execution_count": 70,
   "id": "bcd34272",
   "metadata": {
    "id": "bcd34272"
   },
   "outputs": [
    {
     "data": {
      "text/plain": [
       "['Global_active_power',\n",
       " 'Global_reactive_power',\n",
       " 'Voltage',\n",
       " 'Sub_metering_2',\n",
       " 'Sub_metering_3',\n",
       " 'Date',\n",
       " 'Time',\n",
       " 'Year',\n",
       " 'Quarter',\n",
       " 'Day',\n",
       " 'Week',\n",
       " 'Month',\n",
       " 'Hour',\n",
       " 'Minute',\n",
       " 'Sub_Metering_Sum',\n",
       " 'Consumed_active_energy']"
      ]
     },
     "execution_count": 70,
     "metadata": {},
     "output_type": "execute_result"
    }
   ],
   "source": [
    "col = list(train.columns)\n",
    "col.remove('Consumed_active_energy')\n",
    "col.append('Consumed_active_energy')\n",
    "col"
   ]
  },
  {
   "cell_type": "code",
   "execution_count": 71,
   "id": "2a63b4a3",
   "metadata": {
    "id": "2a63b4a3"
   },
   "outputs": [
    {
     "data": {
      "text/plain": [
       "Index(['Global_active_power', 'Global_reactive_power', 'Voltage',\n",
       "       'Sub_metering_2', 'Sub_metering_3', 'Date', 'Time', 'Year', 'Quarter',\n",
       "       'Day', 'Week', 'Month', 'Hour', 'Minute', 'Sub_Metering_Sum',\n",
       "       'Consumed_active_energy'],\n",
       "      dtype='object')"
      ]
     },
     "execution_count": 71,
     "metadata": {},
     "output_type": "execute_result"
    }
   ],
   "source": [
    "train = train[col]\n",
    "train.columns"
   ]
  },
  {
   "cell_type": "markdown",
   "id": "e1d7f7b2",
   "metadata": {
    "id": "e1d7f7b2"
   },
   "source": [
    "## Feature Selection"
   ]
  },
  {
   "cell_type": "code",
   "execution_count": 72,
   "id": "d7abaa7e",
   "metadata": {
    "id": "d7abaa7e"
   },
   "outputs": [
    {
     "data": {
      "text/plain": [
       "Global_active_power       False\n",
       "Global_reactive_power     False\n",
       "Voltage                   False\n",
       "Sub_metering_2            False\n",
       "Sub_metering_3            False\n",
       "Date                      False\n",
       "Time                      False\n",
       "Year                      False\n",
       "Quarter                   False\n",
       "Day                       False\n",
       "Week                      False\n",
       "Month                     False\n",
       "Hour                      False\n",
       "Minute                    False\n",
       "Sub_Metering_Sum          False\n",
       "Consumed_active_energy    False\n",
       "dtype: bool"
      ]
     },
     "execution_count": 72,
     "metadata": {},
     "output_type": "execute_result"
    }
   ],
   "source": [
    "train.isnull().any()"
   ]
  },
  {
   "cell_type": "markdown",
   "id": "afcea938",
   "metadata": {
    "id": "afcea938"
   },
   "source": [
    "### Heat Map"
   ]
  },
  {
   "cell_type": "code",
   "execution_count": 73,
   "id": "183baca0",
   "metadata": {
    "id": "183baca0"
   },
   "outputs": [
    {
     "data": {
      "image/png": "[encoded data removed]",
      "text/plain": [
       "<Figure size 1440x720 with 2 Axes>"
      ]
     },
     "metadata": {
      "needs_background": "light"
     },
     "output_type": "display_data"
    }
   ],
   "source": [
    "plt.figure(figsize=(20,10))\n",
    "sns.heatmap(train.corr().abs(),annot=True,cmap=\"YlGnBu_r\", vmin=-1,vmax=1)\n",
    "plt.show()"
   ]
  },
  {
   "cell_type": "code",
   "execution_count": 74,
   "id": "8c847187",
   "metadata": {
    "id": "8c847187"
   },
   "outputs": [
    {
     "data": {
      "text/plain": [
       "Index(['Global_active_power', 'Global_reactive_power', 'Voltage',\n",
       "       'Sub_metering_2', 'Sub_metering_3', 'Date', 'Time', 'Year', 'Quarter',\n",
       "       'Day', 'Week', 'Month', 'Hour', 'Minute', 'Sub_Metering_Sum'],\n",
       "      dtype='object')"
      ]
     },
     "execution_count": 74,
     "metadata": {},
     "output_type": "execute_result"
    }
   ],
   "source": [
    "x_train.columns"
   ]
  },
  {
   "cell_type": "code",
   "execution_count": 75,
   "id": "abbdbf8b",
   "metadata": {
    "id": "abbdbf8b"
   },
   "outputs": [
    {
     "data": {
      "text/plain": [
       "Index(['Global_active_power', 'Voltage', 'Hour', 'Sub_metering_2',\n",
       "       'Sub_metering_3', 'Global_reactive_power'],\n",
       "      dtype='object')"
      ]
     },
     "execution_count": 75,
     "metadata": {},
     "output_type": "execute_result"
    }
   ],
   "source": [
    "xtrain = x_train[['Global_active_power', 'Voltage', 'Hour', 'Sub_metering_2', 'Sub_metering_3','Global_reactive_power']]\n",
    "ytrain = y_train\n",
    "xtrain.columns"
   ]
  },
  {
   "cell_type": "code",
   "execution_count": 76,
   "id": "d35991b8",
   "metadata": {
    "id": "d35991b8"
   },
   "outputs": [
    {
     "data": {
      "text/plain": [
       "Index(['Global_active_power', 'Voltage', 'Hour', 'Sub_metering_2',\n",
       "       'Sub_metering_3', 'Global_reactive_power'],\n",
       "      dtype='object')"
      ]
     },
     "execution_count": 76,
     "metadata": {},
     "output_type": "execute_result"
    }
   ],
   "source": [
    "xcv = xcv[['Global_active_power', 'Voltage', 'Hour', 'Sub_metering_2', 'Sub_metering_3','Global_reactive_power']]\n",
    "xcv.columns"
   ]
  },
  {
   "cell_type": "markdown",
   "id": "0ca10e70",
   "metadata": {
    "id": "0ca10e70"
   },
   "source": [
    "## Modeling"
   ]
  },
  {
   "cell_type": "markdown",
   "id": "b6cdd0f1",
   "metadata": {
    "id": "b6cdd0f1"
   },
   "source": [
    "#### Now we need to compare with different ML models, and need to find out the best predicted model\n",
    "* Linear Regression\n",
    "* Decision Tree Regression\n",
    "* Random Forest Regression\n",
    "* XG Boost Regression"
   ]
  },
  {
   "cell_type": "code",
   "execution_count": 77,
   "id": "5b8eff77",
   "metadata": {
    "id": "5b8eff77"
   },
   "outputs": [],
   "source": [
    "MSE_Score = []\n",
    "MSE_Score_cv = []\n",
    "MSE_Score_test = []\n",
    "RMSE_Score = []\n",
    "RMSE_Score_cv = []\n",
    "RMSE_Score_test = []\n",
    "Algorithm = []\n",
    "R2_Score = []\n",
    "R2_Score_cv = []\n",
    "R2_Score_test = []"
   ]
  },
  {
   "cell_type": "markdown",
   "id": "9e664c96",
   "metadata": {
    "id": "9e664c96"
   },
   "source": [
    "### Linear Regression"
   ]
  },
  {
   "cell_type": "markdown",
   "id": "22af36ab",
   "metadata": {
    "id": "22af36ab"
   },
   "source": [
    "#### Model Training"
   ]
  },
  {
   "cell_type": "code",
   "execution_count": 78,
   "id": "309e60b3",
   "metadata": {
    "id": "309e60b3"
   },
   "outputs": [
    {
     "data": {
      "text/plain": [
       "LinearRegression()"
      ]
     },
     "execution_count": 78,
     "metadata": {},
     "output_type": "execute_result"
    }
   ],
   "source": [
    "Algorithm.append('LinearRegression')\n",
    "\n",
    "regressor = LinearRegression()\n",
    "regressor.fit(xtrain, ytrain)"
   ]
  },
  {
   "cell_type": "markdown",
   "id": "70575ec8",
   "metadata": {
    "id": "70575ec8"
   },
   "source": [
    "#### Training Data"
   ]
  },
  {
   "cell_type": "code",
   "execution_count": 79,
   "id": "decf15fa",
   "metadata": {
    "id": "decf15fa"
   },
   "outputs": [],
   "source": [
    "predicted= regressor.predict(xtrain)\n",
    "MSE_Score.append(mean_squared_error(ytrain, predicted))\n",
    "mse = mean_squared_error(ytrain, predicted)\n",
    "RMSE_Score.append(math.sqrt(mse))\n",
    "R2_Score.append(r2_score(ytrain, predicted))"
   ]
  },
  {
   "cell_type": "markdown",
   "id": "6d7a89e9",
   "metadata": {
    "id": "6d7a89e9"
   },
   "source": [
    "#### Cross-Validation Data"
   ]
  },
  {
   "cell_type": "code",
   "execution_count": 80,
   "id": "37f3e4ad",
   "metadata": {
    "id": "37f3e4ad"
   },
   "outputs": [],
   "source": [
    "predicted_cv = regressor.predict(xcv)\n",
    "MSE_Score_cv.append(mean_squared_error(ycv, predicted_cv))\n",
    "mse = mean_squared_error(ycv, predicted_cv)\n",
    "RMSE_Score_cv.append(math.sqrt(mse))\n",
    "R2_Score_cv.append(r2_score(ycv, predicted_cv))"
   ]
  },
  {
   "cell_type": "markdown",
   "id": "ee57634b",
   "metadata": {
    "id": "ee57634b"
   },
   "source": [
    "### Decision Tree Regression"
   ]
  },
  {
   "cell_type": "code",
   "execution_count": 81,
   "id": "88d2aa7d",
   "metadata": {
    "id": "88d2aa7d"
   },
   "outputs": [
    {
     "data": {
      "text/plain": [
       "DecisionTreeRegressor()"
      ]
     },
     "execution_count": 81,
     "metadata": {},
     "output_type": "execute_result"
    }
   ],
   "source": [
    "Algorithm.append('DecisionTreeRegression')\n",
    "\n",
    "regressor_dt = DecisionTreeRegressor()\n",
    "regressor_dt.fit(xtrain, ytrain)"
   ]
  },
  {
   "cell_type": "markdown",
   "id": "757ab679",
   "metadata": {
    "id": "757ab679"
   },
   "source": [
    "#### Training Data"
   ]
  },
  {
   "cell_type": "code",
   "execution_count": 82,
   "id": "77931a27",
   "metadata": {
    "id": "77931a27"
   },
   "outputs": [],
   "source": [
    "predicted_dt= regressor_dt.predict(xtrain)\n",
    "MSE_Score.append(mean_squared_error(ytrain, predicted_dt))\n",
    "mse_dt = mean_squared_error(ytrain, predicted_dt)\n",
    "RMSE_Score.append(math.sqrt(mse_dt))\n",
    "R2_Score.append(r2_score(ytrain, predicted_dt))"
   ]
  },
  {
   "cell_type": "markdown",
   "id": "43829a1b",
   "metadata": {
    "id": "43829a1b"
   },
   "source": [
    "#### Cross-Validation Data"
   ]
  },
  {
   "cell_type": "code",
   "execution_count": 83,
   "id": "9efa27de",
   "metadata": {
    "id": "9efa27de"
   },
   "outputs": [],
   "source": [
    "predicted_dt_cv = regressor_dt.predict(xcv)\n",
    "MSE_Score_cv.append(mean_squared_error(ycv, predicted_dt_cv))\n",
    "mse_dt = mean_squared_error(ycv, predicted_dt_cv)\n",
    "RMSE_Score_cv.append(math.sqrt(mse_dt))\n",
    "R2_Score_cv.append(r2_score(ycv, predicted_dt_cv))"
   ]
  },
  {
   "cell_type": "markdown",
   "id": "4c425c9c",
   "metadata": {
    "id": "4c425c9c"
   },
   "source": [
    "### XGBoost Regressor"
   ]
  },
  {
   "cell_type": "code",
   "execution_count": 84,
   "id": "aa6e3672",
   "metadata": {
    "id": "aa6e3672"
   },
   "outputs": [
    {
     "data": {
      "text/plain": [
       "XGBRegressor(base_score=0.5, booster='gbtree', colsample_bylevel=1,\n",
       "             colsample_bynode=1, colsample_bytree=1, enable_categorical=False,\n",
       "             gamma=0, gpu_id=-1, importance_type=None,\n",
       "             interaction_constraints='', learning_rate=0.300000012,\n",
       "             max_delta_step=0, max_depth=6, min_child_weight=1, missing=nan,\n",
       "             monotone_constraints='()', n_estimators=100, n_jobs=8,\n",
       "             num_parallel_tree=1, predictor='auto', random_state=0, reg_alpha=0,\n",
       "             reg_lambda=1, scale_pos_weight=1, subsample=1, tree_method='exact',\n",
       "             validate_parameters=1, verbosity=None)"
      ]
     },
     "execution_count": 84,
     "metadata": {},
     "output_type": "execute_result"
    }
   ],
   "source": [
    "Algorithm.append('XGB Regressor')\n",
    "\n",
    "regressor_xg = xgb.XGBRegressor()\n",
    "regressor_xg.fit(xtrain, ytrain)"
   ]
  },
  {
   "cell_type": "markdown",
   "id": "477835fc",
   "metadata": {
    "id": "477835fc"
   },
   "source": [
    "#### Training Data"
   ]
  },
  {
   "cell_type": "code",
   "execution_count": 85,
   "id": "2c2848a5",
   "metadata": {
    "id": "2c2848a5"
   },
   "outputs": [],
   "source": [
    "predicted_train = regressor_xg.predict(xtrain)\n",
    "MSE_Score.append(mean_squared_error(ytrain, predicted_train))\n",
    "mse_xg_train = mean_squared_error(ytrain, predicted_train)\n",
    "RMSE_Score.append(math.sqrt(mse_xg_train))\n",
    "R2_Score.append(r2_score(ytrain, predicted_train))"
   ]
  },
  {
   "cell_type": "markdown",
   "id": "3ae7699a",
   "metadata": {
    "id": "3ae7699a"
   },
   "source": [
    "#### Cross-Validation Data"
   ]
  },
  {
   "cell_type": "code",
   "execution_count": 86,
   "id": "3301fcaa",
   "metadata": {
    "id": "3301fcaa"
   },
   "outputs": [],
   "source": [
    "predicted_xg_cv = regressor_xg.predict(xcv)\n",
    "MSE_Score_cv.append(mean_squared_error(ycv, predicted_xg_cv))\n",
    "mse_xg_cv = mean_squared_error(ycv, predicted_xg_cv)\n",
    "RMSE_Score_cv.append(math.sqrt(mse_xg_cv))\n",
    "R2_Score_cv.append(r2_score(ycv, predicted_xg_cv))"
   ]
  },
  {
   "cell_type": "markdown",
   "id": "437344be",
   "metadata": {
    "id": "437344be"
   },
   "source": [
    "## Comaprison Table"
   ]
  },
  {
   "cell_type": "code",
   "execution_count": 87,
   "id": "3504ea9f",
   "metadata": {
    "id": "3504ea9f"
   },
   "outputs": [
    {
     "data": {
      "text/html": [
       "<div>\n",
       "<style scoped>\n",
       "    .dataframe tbody tr th:only-of-type {\n",
       "        vertical-align: middle;\n",
       "    }\n",
       "\n",
       "    .dataframe tbody tr th {\n",
       "        vertical-align: top;\n",
       "    }\n",
       "\n",
       "    .dataframe thead th {\n",
       "        text-align: right;\n",
       "    }\n",
       "</style>\n",
       "<table border=\"1\" class=\"dataframe\">\n",
       "  <thead>\n",
       "    <tr style=\"text-align: right;\">\n",
       "      <th></th>\n",
       "      <th>Algorithm</th>\n",
       "      <th>RMSE_Score_Train</th>\n",
       "      <th>RMSE_Score_cv</th>\n",
       "      <th>R2_Score_train</th>\n",
       "      <th>R2_Score_cv</th>\n",
       "    </tr>\n",
       "  </thead>\n",
       "  <tbody>\n",
       "    <tr>\n",
       "      <th>1</th>\n",
       "      <td>XGB Regressor</td>\n",
       "      <td>2.697397</td>\n",
       "      <td>3.561862</td>\n",
       "      <td>0.951089</td>\n",
       "      <td>0.916603</td>\n",
       "    </tr>\n",
       "    <tr>\n",
       "      <th>2</th>\n",
       "      <td>DecisionTreeRegression</td>\n",
       "      <td>0.002245</td>\n",
       "      <td>4.152194</td>\n",
       "      <td>1.000000</td>\n",
       "      <td>0.886668</td>\n",
       "    </tr>\n",
       "    <tr>\n",
       "      <th>3</th>\n",
       "      <td>LinearRegression</td>\n",
       "      <td>5.508429</td>\n",
       "      <td>5.523016</td>\n",
       "      <td>0.796025</td>\n",
       "      <td>0.799484</td>\n",
       "    </tr>\n",
       "  </tbody>\n",
       "</table>\n",
       "</div>"
      ],
      "text/plain": [
       "                Algorithm  RMSE_Score_Train  RMSE_Score_cv  R2_Score_train  \\\n",
       "1           XGB Regressor          2.697397       3.561862        0.951089   \n",
       "2  DecisionTreeRegression          0.002245       4.152194        1.000000   \n",
       "3        LinearRegression          5.508429       5.523016        0.796025   \n",
       "\n",
       "   R2_Score_cv  \n",
       "1     0.916603  \n",
       "2     0.886668  \n",
       "3     0.799484  "
      ]
     },
     "execution_count": 87,
     "metadata": {},
     "output_type": "execute_result"
    }
   ],
   "source": [
    "comp = pd.DataFrame(list(zip(Algorithm, RMSE_Score, RMSE_Score_cv, R2_Score, R2_Score_cv)), columns =['Algorithm', 'RMSE_Score_Train', 'RMSE_Score_cv', 'R2_Score_train', 'R2_Score_cv']) \n",
    "comp = comp.sort_values(by=['RMSE_Score_cv'])\n",
    "comp.reset_index(inplace=True, drop=True)\n",
    "comp.index = np.arange(1,len(comp)+1)\n",
    "comp.head()"
   ]
  },
  {
   "cell_type": "markdown",
   "id": "05ddace2",
   "metadata": {
    "id": "05ddace2"
   },
   "source": [
    "#### XGBoost Regressor has the lowest RMSE Score, and the highest R2 Score for the Cross-Validation Data. Therefore, we will proceed with XGBoost Regressor as our regression model. But, first we will perform Hyper Parameter Tuning."
   ]
  },
  {
   "cell_type": "markdown",
   "id": "21cdb245",
   "metadata": {
    "id": "21cdb245"
   },
   "source": [
    "## Hyper Parameter Tuning"
   ]
  },
  {
   "cell_type": "code",
   "execution_count": 88,
   "id": "812ddd75",
   "metadata": {
    "id": "812ddd75"
   },
   "outputs": [],
   "source": [
    "# params = {\n",
    "#     'n_estimators':[500],\n",
    "#     'min_child_weight':[4,5], \n",
    "#     'gamma':[i/10.0 for i in range(3,6)],  \n",
    "#     'subsample':[i/10.0 for i in range(6,11)],\n",
    "#     'colsample_bytree':[i/10.0 for i in range(6,11)], \n",
    "#     'max_depth': [2,3,4,6,7],\n",
    "#     'objective': ['reg:squarederror', 'reg:tweedie'],\n",
    "#     'booster': ['gbtree', 'gblinear'],\n",
    "#     'eval_metric': ['rmse'],\n",
    "#     'eta': [i/10.0 for i in range(3,6)],\n",
    "# }\n",
    "\n",
    "# reg = xgb.XGBRegressor(nthread=-1)\n",
    "\n",
    "# # run randomized search\n",
    "# n_iter_search = 100\n",
    "# random_search = RandomizedSearchCV(reg, param_distributions=params,n_iter=n_iter_search, cv=5, scoring='neg_mean_squared_error')\n",
    "\n",
    "# start = time.time()\n",
    "# random_search.fit(xtrain, ytrain)\n",
    "# print(\"RandomizedSearchCV took %.2f seconds for %d candidates\"\n",
    "#       \" parameter settings.\" % ((time.time() - start), n_iter_search))\n"
   ]
  },
  {
   "cell_type": "code",
   "execution_count": 89,
   "id": "b1a5b364",
   "metadata": {
    "id": "b1a5b364"
   },
   "outputs": [],
   "source": [
    "# best_regressor = random_search.best_estimator_\n",
    "# best_regressor  "
   ]
  },
  {
   "cell_type": "code",
   "execution_count": 90,
   "id": "TnfTLpHcsq-1",
   "metadata": {
    "id": "TnfTLpHcsq-1"
   },
   "outputs": [],
   "source": [
    "# Algorithm.append('XGB Regressor')\n",
    "\n",
    "# regressor_xg = xgb.XGBRegressor(booster='gbtree', max_depth=7, min_child_weight=7, colsample_bytree=0.9, learning_rate=0.34, n_estimators=200)\n",
    "# regressor_xg.fit(xtrain, ytrain)"
   ]
  },
  {
   "cell_type": "code",
   "execution_count": 91,
   "id": "u0m4KXGBsq7e",
   "metadata": {
    "id": "u0m4KXGBsq7e"
   },
   "outputs": [],
   "source": [
    "# predicted = regressor_xg.predict(xtrain)\n",
    "# MSE_Score.append(mean_squared_error(ytrain, predicted))\n",
    "# mse_xg = mean_squared_error(ytrain, predicted)\n",
    "# RMSE_Score.append(math.sqrt(mse_xg))\n",
    "# R2_Score.append(r2_score(ytrain, predicted))"
   ]
  },
  {
   "cell_type": "code",
   "execution_count": 92,
   "id": "t7_ICQsksq4d",
   "metadata": {
    "id": "t7_ICQsksq4d"
   },
   "outputs": [],
   "source": [
    "# predicted_xg_cv = regressor_xg.predict(xcv)\n",
    "# MSE_Score_cv.append(mean_squared_error(ycv, predicted_xg_cv))\n",
    "# mse_xg = mean_squared_error(ycv, predicted_xg_cv)\n",
    "# RMSE_Score_cv.append(math.sqrt(mse_xg))\n",
    "# R2_Score_cv.append(r2_score(ycv, predicted_xg_cv))"
   ]
  },
  {
   "cell_type": "code",
   "execution_count": 93,
   "id": "VOIxdgsDsq1X",
   "metadata": {
    "id": "VOIxdgsDsq1X"
   },
   "outputs": [],
   "source": [
    "# comp = pd.DataFrame(list(zip(Algorithm, RMSE_Score, RMSE_Score_cv, R2_Score, R2_Score_cv)), columns =['Algorithm', 'RMSE_Score_Train', 'RMSE_Score_cv', 'R2_Score_train', 'R2_Score_cv']) \n",
    "# comp = comp.sort_values(by=['RMSE_Score_cv'])\n",
    "# comp.reset_index(inplace=True, drop=True)\n",
    "# comp.index = np.arange(1,len(comp)+1)\n",
    "# comp.head(111)"
   ]
  },
  {
   "cell_type": "markdown",
   "id": "a701409c",
   "metadata": {
    "id": "a701409c"
   },
   "source": [
    "## Test Data"
   ]
  },
  {
   "cell_type": "code",
   "execution_count": 94,
   "id": "11490eb6",
   "metadata": {
    "id": "11490eb6"
   },
   "outputs": [
    {
     "data": {
      "text/plain": [
       "(60733, 15)"
      ]
     },
     "execution_count": 94,
     "metadata": {},
     "output_type": "execute_result"
    }
   ],
   "source": [
    "x_test.shape"
   ]
  },
  {
   "cell_type": "code",
   "execution_count": 95,
   "id": "d6f468b0",
   "metadata": {
    "id": "d6f468b0"
   },
   "outputs": [
    {
     "data": {
      "text/plain": [
       "Index(['Global_active_power', 'Global_reactive_power', 'Voltage',\n",
       "       'Sub_metering_2', 'Sub_metering_3', 'Date', 'Time', 'Year', 'Quarter',\n",
       "       'Day', 'Week', 'Month', 'Hour', 'Minute', 'Sub_Metering_Sum'],\n",
       "      dtype='object')"
      ]
     },
     "execution_count": 95,
     "metadata": {},
     "output_type": "execute_result"
    }
   ],
   "source": [
    "x_test.columns"
   ]
  },
  {
   "cell_type": "markdown",
   "id": "93f76953",
   "metadata": {
    "id": "93f76953"
   },
   "source": [
    "### Feature Selection"
   ]
  },
  {
   "cell_type": "code",
   "execution_count": 96,
   "id": "2c07d716",
   "metadata": {
    "id": "2c07d716"
   },
   "outputs": [
    {
     "data": {
      "text/plain": [
       "Index(['Global_active_power', 'Voltage', 'Hour', 'Sub_metering_2',\n",
       "       'Sub_metering_3', 'Global_reactive_power'],\n",
       "      dtype='object')"
      ]
     },
     "execution_count": 96,
     "metadata": {},
     "output_type": "execute_result"
    }
   ],
   "source": [
    "xtest = x_test[['Global_active_power', 'Voltage', 'Hour', 'Sub_metering_2', 'Sub_metering_3','Global_reactive_power']]\n",
    "ytest = y_test\n",
    "xtest.columns"
   ]
  },
  {
   "cell_type": "code",
   "execution_count": 97,
   "id": "fbbd70ba",
   "metadata": {
    "id": "fbbd70ba"
   },
   "outputs": [
    {
     "name": "stdout",
     "output_type": "stream",
     "text": [
      "(60733, 6) (60733, 1)\n"
     ]
    }
   ],
   "source": [
    "print(xtest.shape,ytest.shape)"
   ]
  },
  {
   "cell_type": "markdown",
   "id": "55a316ac",
   "metadata": {
    "id": "55a316ac"
   },
   "source": [
    "### Test Data Prediction"
   ]
  },
  {
   "cell_type": "code",
   "execution_count": 98,
   "id": "e0dd705e",
   "metadata": {
    "id": "e0dd705e"
   },
   "outputs": [
    {
     "name": "stdout",
     "output_type": "stream",
     "text": [
      "RMSE Test Data: 3.43310064678363\n",
      "R2 Test Data: 0.9202554551806956\n"
     ]
    }
   ],
   "source": [
    "predicted_xg_test = regressor_xg.predict(xtest)\n",
    "mse_xg_test = mean_squared_error(ytest, predicted_xg_test)\n",
    "print(\"RMSE Test Data:\",math.sqrt(mse_xg_test))\n",
    "print(\"R2 Test Data:\",r2_score(ytest, predicted_xg_test))"
   ]
  }
 ],
 "metadata": {
  "colab": {
   "collapsed_sections": [
    "b5dbc7f2",
    "d0ccdaf4",
    "77aefdf2",
    "a39dd646",
    "36fa6399",
    "26baa79e",
    "fe72bd5b",
    "c5b67a23",
    "605fe264",
    "06d1de81",
    "0b59d2e1",
    "ad98d293",
    "2dfff288",
    "d3f7208f",
    "2e89e7e1",
    "9c3f31cc",
    "a82c97b9",
    "16c85247",
    "9dfb4b14",
    "31d05b23",
    "ae0ff4ee",
    "41e33705",
    "aa366d59",
    "a041d5d1",
    "c47f6701",
    "d59ddc0f"
   ],
   "provenance": []
  },
  "kernelspec": {
   "display_name": "Python 3 (ipykernel)",
   "language": "python",
   "name": "python3"
  },
  "language_info": {
   "codemirror_mode": {
    "name": "ipython",
    "version": 3
   },
   "file_extension": ".py",
   "mimetype": "text/x-python",
   "name": "python",
   "nbconvert_exporter": "python",
   "pygments_lexer": "ipython3",
   "version": "3.9.7"
  }
 },
 "nbformat": 4,
 "nbformat_minor": 5
}
